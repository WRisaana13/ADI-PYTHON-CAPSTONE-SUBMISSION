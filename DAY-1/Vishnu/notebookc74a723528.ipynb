{
 "cells": [
  {
   "cell_type": "markdown",
   "id": "b3c6e280",
   "metadata": {
    "papermill": {
     "duration": 0.022691,
     "end_time": "2023-10-30T11:40:17.458446",
     "exception": false,
     "start_time": "2023-10-30T11:40:17.435755",
     "status": "completed"
    },
    "tags": []
   },
   "source": [
    "# Venkata Vishnu"
   ]
  },
  {
   "cell_type": "code",
   "execution_count": 1,
   "id": "d3b39601",
   "metadata": {
    "_cell_guid": "b1076dfc-b9ad-4769-8c92-a6c4dae69d19",
    "_uuid": "8f2839f25d086af736a60e9eeb907d3b93b6e0e5",
    "execution": {
     "iopub.execute_input": "2023-10-30T11:40:17.504741Z",
     "iopub.status.busy": "2023-10-30T11:40:17.504317Z",
     "iopub.status.idle": "2023-10-30T11:40:17.948507Z",
     "shell.execute_reply": "2023-10-30T11:40:17.947243Z"
    },
    "papermill": {
     "duration": 0.470301,
     "end_time": "2023-10-30T11:40:17.951333",
     "exception": false,
     "start_time": "2023-10-30T11:40:17.481032",
     "status": "completed"
    },
    "tags": []
   },
   "outputs": [],
   "source": [
    "\n",
    "import pandas as pd\n",
    "\n",
    "data = { 'Name':['J','K','l'],\n",
    "       'Age' : [20, 30, 40],\n",
    "       'Place' : ['NY', 'London', 'Delhi']}\n"
   ]
  },
  {
   "cell_type": "code",
   "execution_count": 2,
   "id": "d90d0eea",
   "metadata": {
    "execution": {
     "iopub.execute_input": "2023-10-30T11:40:18.000861Z",
     "iopub.status.busy": "2023-10-30T11:40:18.000330Z",
     "iopub.status.idle": "2023-10-30T11:40:18.007772Z",
     "shell.execute_reply": "2023-10-30T11:40:18.005740Z"
    },
    "papermill": {
     "duration": 0.035959,
     "end_time": "2023-10-30T11:40:18.010373",
     "exception": false,
     "start_time": "2023-10-30T11:40:17.974414",
     "status": "completed"
    },
    "tags": []
   },
   "outputs": [
    {
     "name": "stdout",
     "output_type": "stream",
     "text": [
      "{'Name': ['J', 'K', 'l'], 'Age': [20, 30, 40], 'Place': ['NY', 'London', 'Delhi']}\n"
     ]
    }
   ],
   "source": [
    "print(data)"
   ]
  },
  {
   "cell_type": "code",
   "execution_count": 3,
   "id": "ed99d8b2",
   "metadata": {
    "execution": {
     "iopub.execute_input": "2023-10-30T11:40:18.058991Z",
     "iopub.status.busy": "2023-10-30T11:40:18.058112Z",
     "iopub.status.idle": "2023-10-30T11:40:18.066938Z",
     "shell.execute_reply": "2023-10-30T11:40:18.066053Z"
    },
    "papermill": {
     "duration": 0.035646,
     "end_time": "2023-10-30T11:40:18.069547",
     "exception": false,
     "start_time": "2023-10-30T11:40:18.033901",
     "status": "completed"
    },
    "tags": []
   },
   "outputs": [],
   "source": [
    "df = pd.DataFrame(data)"
   ]
  },
  {
   "cell_type": "code",
   "execution_count": 4,
   "id": "43657bf4",
   "metadata": {
    "execution": {
     "iopub.execute_input": "2023-10-30T11:40:18.117029Z",
     "iopub.status.busy": "2023-10-30T11:40:18.116173Z",
     "iopub.status.idle": "2023-10-30T11:40:18.132667Z",
     "shell.execute_reply": "2023-10-30T11:40:18.131461Z"
    },
    "papermill": {
     "duration": 0.043136,
     "end_time": "2023-10-30T11:40:18.135490",
     "exception": false,
     "start_time": "2023-10-30T11:40:18.092354",
     "status": "completed"
    },
    "tags": []
   },
   "outputs": [
    {
     "name": "stdout",
     "output_type": "stream",
     "text": [
      "  Name  Age   Place\n",
      "0    J   20      NY\n",
      "1    K   30  London\n",
      "2    l   40   Delhi\n"
     ]
    }
   ],
   "source": [
    "print(df)"
   ]
  },
  {
   "cell_type": "code",
   "execution_count": 5,
   "id": "51f18b5a",
   "metadata": {
    "execution": {
     "iopub.execute_input": "2023-10-30T11:40:18.183022Z",
     "iopub.status.busy": "2023-10-30T11:40:18.182642Z",
     "iopub.status.idle": "2023-10-30T11:40:18.199704Z",
     "shell.execute_reply": "2023-10-30T11:40:18.197648Z"
    },
    "papermill": {
     "duration": 0.044021,
     "end_time": "2023-10-30T11:40:18.202450",
     "exception": false,
     "start_time": "2023-10-30T11:40:18.158429",
     "status": "completed"
    },
    "tags": []
   },
   "outputs": [
    {
     "data": {
      "text/html": [
       "<div>\n",
       "<style scoped>\n",
       "    .dataframe tbody tr th:only-of-type {\n",
       "        vertical-align: middle;\n",
       "    }\n",
       "\n",
       "    .dataframe tbody tr th {\n",
       "        vertical-align: top;\n",
       "    }\n",
       "\n",
       "    .dataframe thead th {\n",
       "        text-align: right;\n",
       "    }\n",
       "</style>\n",
       "<table border=\"1\" class=\"dataframe\">\n",
       "  <thead>\n",
       "    <tr style=\"text-align: right;\">\n",
       "      <th></th>\n",
       "      <th>Name</th>\n",
       "      <th>Age</th>\n",
       "      <th>Place</th>\n",
       "    </tr>\n",
       "  </thead>\n",
       "  <tbody>\n",
       "    <tr>\n",
       "      <th>0</th>\n",
       "      <td>J</td>\n",
       "      <td>20</td>\n",
       "      <td>NY</td>\n",
       "    </tr>\n",
       "    <tr>\n",
       "      <th>1</th>\n",
       "      <td>K</td>\n",
       "      <td>30</td>\n",
       "      <td>London</td>\n",
       "    </tr>\n",
       "    <tr>\n",
       "      <th>2</th>\n",
       "      <td>l</td>\n",
       "      <td>40</td>\n",
       "      <td>Delhi</td>\n",
       "    </tr>\n",
       "  </tbody>\n",
       "</table>\n",
       "</div>"
      ],
      "text/plain": [
       "  Name  Age   Place\n",
       "0    J   20      NY\n",
       "1    K   30  London\n",
       "2    l   40   Delhi"
      ]
     },
     "execution_count": 5,
     "metadata": {},
     "output_type": "execute_result"
    }
   ],
   "source": [
    "df"
   ]
  },
  {
   "cell_type": "code",
   "execution_count": 6,
   "id": "544a22b3",
   "metadata": {
    "execution": {
     "iopub.execute_input": "2023-10-30T11:40:18.249953Z",
     "iopub.status.busy": "2023-10-30T11:40:18.249519Z",
     "iopub.status.idle": "2023-10-30T11:40:18.262125Z",
     "shell.execute_reply": "2023-10-30T11:40:18.260850Z"
    },
    "papermill": {
     "duration": 0.04084,
     "end_time": "2023-10-30T11:40:18.265655",
     "exception": false,
     "start_time": "2023-10-30T11:40:18.224815",
     "status": "completed"
    },
    "tags": []
   },
   "outputs": [
    {
     "data": {
      "text/html": [
       "<div>\n",
       "<style scoped>\n",
       "    .dataframe tbody tr th:only-of-type {\n",
       "        vertical-align: middle;\n",
       "    }\n",
       "\n",
       "    .dataframe tbody tr th {\n",
       "        vertical-align: top;\n",
       "    }\n",
       "\n",
       "    .dataframe thead th {\n",
       "        text-align: right;\n",
       "    }\n",
       "</style>\n",
       "<table border=\"1\" class=\"dataframe\">\n",
       "  <thead>\n",
       "    <tr style=\"text-align: right;\">\n",
       "      <th></th>\n",
       "      <th>Name</th>\n",
       "      <th>Age</th>\n",
       "      <th>Place</th>\n",
       "    </tr>\n",
       "  </thead>\n",
       "  <tbody>\n",
       "    <tr>\n",
       "      <th>0</th>\n",
       "      <td>J</td>\n",
       "      <td>20</td>\n",
       "      <td>NY</td>\n",
       "    </tr>\n",
       "    <tr>\n",
       "      <th>1</th>\n",
       "      <td>K</td>\n",
       "      <td>30</td>\n",
       "      <td>London</td>\n",
       "    </tr>\n",
       "    <tr>\n",
       "      <th>2</th>\n",
       "      <td>l</td>\n",
       "      <td>40</td>\n",
       "      <td>Delhi</td>\n",
       "    </tr>\n",
       "  </tbody>\n",
       "</table>\n",
       "</div>"
      ],
      "text/plain": [
       "  Name  Age   Place\n",
       "0    J   20      NY\n",
       "1    K   30  London\n",
       "2    l   40   Delhi"
      ]
     },
     "execution_count": 6,
     "metadata": {},
     "output_type": "execute_result"
    }
   ],
   "source": [
    "df.head()"
   ]
  },
  {
   "cell_type": "code",
   "execution_count": 7,
   "id": "e6a65987",
   "metadata": {
    "execution": {
     "iopub.execute_input": "2023-10-30T11:40:18.316321Z",
     "iopub.status.busy": "2023-10-30T11:40:18.315078Z",
     "iopub.status.idle": "2023-10-30T11:40:18.336712Z",
     "shell.execute_reply": "2023-10-30T11:40:18.335601Z"
    },
    "papermill": {
     "duration": 0.05053,
     "end_time": "2023-10-30T11:40:18.339434",
     "exception": false,
     "start_time": "2023-10-30T11:40:18.288904",
     "status": "completed"
    },
    "tags": []
   },
   "outputs": [
    {
     "data": {
      "text/html": [
       "<div>\n",
       "<style scoped>\n",
       "    .dataframe tbody tr th:only-of-type {\n",
       "        vertical-align: middle;\n",
       "    }\n",
       "\n",
       "    .dataframe tbody tr th {\n",
       "        vertical-align: top;\n",
       "    }\n",
       "\n",
       "    .dataframe thead th {\n",
       "        text-align: right;\n",
       "    }\n",
       "</style>\n",
       "<table border=\"1\" class=\"dataframe\">\n",
       "  <thead>\n",
       "    <tr style=\"text-align: right;\">\n",
       "      <th></th>\n",
       "      <th>Age</th>\n",
       "    </tr>\n",
       "  </thead>\n",
       "  <tbody>\n",
       "    <tr>\n",
       "      <th>count</th>\n",
       "      <td>3.0</td>\n",
       "    </tr>\n",
       "    <tr>\n",
       "      <th>mean</th>\n",
       "      <td>30.0</td>\n",
       "    </tr>\n",
       "    <tr>\n",
       "      <th>std</th>\n",
       "      <td>10.0</td>\n",
       "    </tr>\n",
       "    <tr>\n",
       "      <th>min</th>\n",
       "      <td>20.0</td>\n",
       "    </tr>\n",
       "    <tr>\n",
       "      <th>25%</th>\n",
       "      <td>25.0</td>\n",
       "    </tr>\n",
       "    <tr>\n",
       "      <th>50%</th>\n",
       "      <td>30.0</td>\n",
       "    </tr>\n",
       "    <tr>\n",
       "      <th>75%</th>\n",
       "      <td>35.0</td>\n",
       "    </tr>\n",
       "    <tr>\n",
       "      <th>max</th>\n",
       "      <td>40.0</td>\n",
       "    </tr>\n",
       "  </tbody>\n",
       "</table>\n",
       "</div>"
      ],
      "text/plain": [
       "        Age\n",
       "count   3.0\n",
       "mean   30.0\n",
       "std    10.0\n",
       "min    20.0\n",
       "25%    25.0\n",
       "50%    30.0\n",
       "75%    35.0\n",
       "max    40.0"
      ]
     },
     "execution_count": 7,
     "metadata": {},
     "output_type": "execute_result"
    }
   ],
   "source": [
    "df.describe()"
   ]
  },
  {
   "cell_type": "code",
   "execution_count": 8,
   "id": "650f4e05",
   "metadata": {
    "execution": {
     "iopub.execute_input": "2023-10-30T11:40:18.389381Z",
     "iopub.status.busy": "2023-10-30T11:40:18.388944Z",
     "iopub.status.idle": "2023-10-30T11:40:18.408381Z",
     "shell.execute_reply": "2023-10-30T11:40:18.406969Z"
    },
    "papermill": {
     "duration": 0.047532,
     "end_time": "2023-10-30T11:40:18.411261",
     "exception": false,
     "start_time": "2023-10-30T11:40:18.363729",
     "status": "completed"
    },
    "tags": []
   },
   "outputs": [
    {
     "data": {
      "text/html": [
       "<div>\n",
       "<style scoped>\n",
       "    .dataframe tbody tr th:only-of-type {\n",
       "        vertical-align: middle;\n",
       "    }\n",
       "\n",
       "    .dataframe tbody tr th {\n",
       "        vertical-align: top;\n",
       "    }\n",
       "\n",
       "    .dataframe thead th {\n",
       "        text-align: right;\n",
       "    }\n",
       "</style>\n",
       "<table border=\"1\" class=\"dataframe\">\n",
       "  <thead>\n",
       "    <tr style=\"text-align: right;\">\n",
       "      <th></th>\n",
       "      <th>Name</th>\n",
       "      <th>Age</th>\n",
       "    </tr>\n",
       "  </thead>\n",
       "  <tbody>\n",
       "    <tr>\n",
       "      <th>0</th>\n",
       "      <td>J</td>\n",
       "      <td>20</td>\n",
       "    </tr>\n",
       "    <tr>\n",
       "      <th>1</th>\n",
       "      <td>K</td>\n",
       "      <td>30</td>\n",
       "    </tr>\n",
       "    <tr>\n",
       "      <th>2</th>\n",
       "      <td>l</td>\n",
       "      <td>40</td>\n",
       "    </tr>\n",
       "  </tbody>\n",
       "</table>\n",
       "</div>"
      ],
      "text/plain": [
       "  Name  Age\n",
       "0    J   20\n",
       "1    K   30\n",
       "2    l   40"
      ]
     },
     "execution_count": 8,
     "metadata": {},
     "output_type": "execute_result"
    }
   ],
   "source": [
    "df[['Name','Age']]"
   ]
  },
  {
   "cell_type": "code",
   "execution_count": 9,
   "id": "f5885042",
   "metadata": {
    "execution": {
     "iopub.execute_input": "2023-10-30T11:40:18.527259Z",
     "iopub.status.busy": "2023-10-30T11:40:18.526155Z",
     "iopub.status.idle": "2023-10-30T11:40:18.532801Z",
     "shell.execute_reply": "2023-10-30T11:40:18.531649Z"
    },
    "papermill": {
     "duration": 0.100444,
     "end_time": "2023-10-30T11:40:18.535972",
     "exception": false,
     "start_time": "2023-10-30T11:40:18.435528",
     "status": "completed"
    },
    "tags": []
   },
   "outputs": [],
   "source": [
    "df['Occupation'] = ['Engineer', 'Doctor', 'Teacher']"
   ]
  },
  {
   "cell_type": "code",
   "execution_count": 10,
   "id": "ebbe675e",
   "metadata": {
    "execution": {
     "iopub.execute_input": "2023-10-30T11:40:18.586131Z",
     "iopub.status.busy": "2023-10-30T11:40:18.585699Z",
     "iopub.status.idle": "2023-10-30T11:40:18.597527Z",
     "shell.execute_reply": "2023-10-30T11:40:18.596572Z"
    },
    "papermill": {
     "duration": 0.04012,
     "end_time": "2023-10-30T11:40:18.599820",
     "exception": false,
     "start_time": "2023-10-30T11:40:18.559700",
     "status": "completed"
    },
    "tags": []
   },
   "outputs": [
    {
     "data": {
      "text/html": [
       "<div>\n",
       "<style scoped>\n",
       "    .dataframe tbody tr th:only-of-type {\n",
       "        vertical-align: middle;\n",
       "    }\n",
       "\n",
       "    .dataframe tbody tr th {\n",
       "        vertical-align: top;\n",
       "    }\n",
       "\n",
       "    .dataframe thead th {\n",
       "        text-align: right;\n",
       "    }\n",
       "</style>\n",
       "<table border=\"1\" class=\"dataframe\">\n",
       "  <thead>\n",
       "    <tr style=\"text-align: right;\">\n",
       "      <th></th>\n",
       "      <th>Name</th>\n",
       "      <th>Age</th>\n",
       "      <th>Place</th>\n",
       "      <th>Occupation</th>\n",
       "    </tr>\n",
       "  </thead>\n",
       "  <tbody>\n",
       "    <tr>\n",
       "      <th>0</th>\n",
       "      <td>J</td>\n",
       "      <td>20</td>\n",
       "      <td>NY</td>\n",
       "      <td>Engineer</td>\n",
       "    </tr>\n",
       "    <tr>\n",
       "      <th>1</th>\n",
       "      <td>K</td>\n",
       "      <td>30</td>\n",
       "      <td>London</td>\n",
       "      <td>Doctor</td>\n",
       "    </tr>\n",
       "    <tr>\n",
       "      <th>2</th>\n",
       "      <td>l</td>\n",
       "      <td>40</td>\n",
       "      <td>Delhi</td>\n",
       "      <td>Teacher</td>\n",
       "    </tr>\n",
       "  </tbody>\n",
       "</table>\n",
       "</div>"
      ],
      "text/plain": [
       "  Name  Age   Place Occupation\n",
       "0    J   20      NY   Engineer\n",
       "1    K   30  London     Doctor\n",
       "2    l   40   Delhi    Teacher"
      ]
     },
     "execution_count": 10,
     "metadata": {},
     "output_type": "execute_result"
    }
   ],
   "source": [
    "df"
   ]
  },
  {
   "cell_type": "code",
   "execution_count": 11,
   "id": "0e51b00d",
   "metadata": {
    "execution": {
     "iopub.execute_input": "2023-10-30T11:40:18.649327Z",
     "iopub.status.busy": "2023-10-30T11:40:18.648579Z",
     "iopub.status.idle": "2023-10-30T11:40:18.654014Z",
     "shell.execute_reply": "2023-10-30T11:40:18.653147Z"
    },
    "papermill": {
     "duration": 0.032213,
     "end_time": "2023-10-30T11:40:18.656298",
     "exception": false,
     "start_time": "2023-10-30T11:40:18.624085",
     "status": "completed"
    },
    "tags": []
   },
   "outputs": [],
   "source": [
    "filter_df = df[df['Age']>25]"
   ]
  },
  {
   "cell_type": "code",
   "execution_count": 12,
   "id": "38777c3e",
   "metadata": {
    "execution": {
     "iopub.execute_input": "2023-10-30T11:40:18.706618Z",
     "iopub.status.busy": "2023-10-30T11:40:18.705890Z",
     "iopub.status.idle": "2023-10-30T11:40:18.717158Z",
     "shell.execute_reply": "2023-10-30T11:40:18.716087Z"
    },
    "papermill": {
     "duration": 0.040157,
     "end_time": "2023-10-30T11:40:18.719548",
     "exception": false,
     "start_time": "2023-10-30T11:40:18.679391",
     "status": "completed"
    },
    "tags": []
   },
   "outputs": [
    {
     "data": {
      "text/html": [
       "<div>\n",
       "<style scoped>\n",
       "    .dataframe tbody tr th:only-of-type {\n",
       "        vertical-align: middle;\n",
       "    }\n",
       "\n",
       "    .dataframe tbody tr th {\n",
       "        vertical-align: top;\n",
       "    }\n",
       "\n",
       "    .dataframe thead th {\n",
       "        text-align: right;\n",
       "    }\n",
       "</style>\n",
       "<table border=\"1\" class=\"dataframe\">\n",
       "  <thead>\n",
       "    <tr style=\"text-align: right;\">\n",
       "      <th></th>\n",
       "      <th>Name</th>\n",
       "      <th>Age</th>\n",
       "      <th>Place</th>\n",
       "      <th>Occupation</th>\n",
       "    </tr>\n",
       "  </thead>\n",
       "  <tbody>\n",
       "    <tr>\n",
       "      <th>1</th>\n",
       "      <td>K</td>\n",
       "      <td>30</td>\n",
       "      <td>London</td>\n",
       "      <td>Doctor</td>\n",
       "    </tr>\n",
       "    <tr>\n",
       "      <th>2</th>\n",
       "      <td>l</td>\n",
       "      <td>40</td>\n",
       "      <td>Delhi</td>\n",
       "      <td>Teacher</td>\n",
       "    </tr>\n",
       "  </tbody>\n",
       "</table>\n",
       "</div>"
      ],
      "text/plain": [
       "  Name  Age   Place Occupation\n",
       "1    K   30  London     Doctor\n",
       "2    l   40   Delhi    Teacher"
      ]
     },
     "execution_count": 12,
     "metadata": {},
     "output_type": "execute_result"
    }
   ],
   "source": [
    "filter_df"
   ]
  },
  {
   "cell_type": "code",
   "execution_count": 13,
   "id": "daec64ff",
   "metadata": {
    "execution": {
     "iopub.execute_input": "2023-10-30T11:40:18.770802Z",
     "iopub.status.busy": "2023-10-30T11:40:18.770389Z",
     "iopub.status.idle": "2023-10-30T11:40:18.776388Z",
     "shell.execute_reply": "2023-10-30T11:40:18.775191Z"
    },
    "papermill": {
     "duration": 0.035554,
     "end_time": "2023-10-30T11:40:18.780046",
     "exception": false,
     "start_time": "2023-10-30T11:40:18.744492",
     "status": "completed"
    },
    "tags": []
   },
   "outputs": [],
   "source": [
    "sf = df.sort_values('Age')"
   ]
  },
  {
   "cell_type": "code",
   "execution_count": 14,
   "id": "077f559b",
   "metadata": {
    "execution": {
     "iopub.execute_input": "2023-10-30T11:40:18.829120Z",
     "iopub.status.busy": "2023-10-30T11:40:18.828685Z",
     "iopub.status.idle": "2023-10-30T11:40:18.840210Z",
     "shell.execute_reply": "2023-10-30T11:40:18.839330Z"
    },
    "papermill": {
     "duration": 0.038715,
     "end_time": "2023-10-30T11:40:18.842333",
     "exception": false,
     "start_time": "2023-10-30T11:40:18.803618",
     "status": "completed"
    },
    "tags": []
   },
   "outputs": [
    {
     "data": {
      "text/html": [
       "<div>\n",
       "<style scoped>\n",
       "    .dataframe tbody tr th:only-of-type {\n",
       "        vertical-align: middle;\n",
       "    }\n",
       "\n",
       "    .dataframe tbody tr th {\n",
       "        vertical-align: top;\n",
       "    }\n",
       "\n",
       "    .dataframe thead th {\n",
       "        text-align: right;\n",
       "    }\n",
       "</style>\n",
       "<table border=\"1\" class=\"dataframe\">\n",
       "  <thead>\n",
       "    <tr style=\"text-align: right;\">\n",
       "      <th></th>\n",
       "      <th>Name</th>\n",
       "      <th>Age</th>\n",
       "      <th>Place</th>\n",
       "      <th>Occupation</th>\n",
       "    </tr>\n",
       "  </thead>\n",
       "  <tbody>\n",
       "    <tr>\n",
       "      <th>0</th>\n",
       "      <td>J</td>\n",
       "      <td>20</td>\n",
       "      <td>NY</td>\n",
       "      <td>Engineer</td>\n",
       "    </tr>\n",
       "    <tr>\n",
       "      <th>1</th>\n",
       "      <td>K</td>\n",
       "      <td>30</td>\n",
       "      <td>London</td>\n",
       "      <td>Doctor</td>\n",
       "    </tr>\n",
       "    <tr>\n",
       "      <th>2</th>\n",
       "      <td>l</td>\n",
       "      <td>40</td>\n",
       "      <td>Delhi</td>\n",
       "      <td>Teacher</td>\n",
       "    </tr>\n",
       "  </tbody>\n",
       "</table>\n",
       "</div>"
      ],
      "text/plain": [
       "  Name  Age   Place Occupation\n",
       "0    J   20      NY   Engineer\n",
       "1    K   30  London     Doctor\n",
       "2    l   40   Delhi    Teacher"
      ]
     },
     "execution_count": 14,
     "metadata": {},
     "output_type": "execute_result"
    }
   ],
   "source": [
    "sf"
   ]
  },
  {
   "cell_type": "code",
   "execution_count": 15,
   "id": "ca61ce19",
   "metadata": {
    "execution": {
     "iopub.execute_input": "2023-10-30T11:40:18.895221Z",
     "iopub.status.busy": "2023-10-30T11:40:18.894460Z",
     "iopub.status.idle": "2023-10-30T11:40:18.908284Z",
     "shell.execute_reply": "2023-10-30T11:40:18.906960Z"
    },
    "papermill": {
     "duration": 0.044371,
     "end_time": "2023-10-30T11:40:18.911012",
     "exception": false,
     "start_time": "2023-10-30T11:40:18.866641",
     "status": "completed"
    },
    "tags": []
   },
   "outputs": [
    {
     "data": {
      "text/html": [
       "<div>\n",
       "<style scoped>\n",
       "    .dataframe tbody tr th:only-of-type {\n",
       "        vertical-align: middle;\n",
       "    }\n",
       "\n",
       "    .dataframe tbody tr th {\n",
       "        vertical-align: top;\n",
       "    }\n",
       "\n",
       "    .dataframe thead th {\n",
       "        text-align: right;\n",
       "    }\n",
       "</style>\n",
       "<table border=\"1\" class=\"dataframe\">\n",
       "  <thead>\n",
       "    <tr style=\"text-align: right;\">\n",
       "      <th></th>\n",
       "      <th>Name</th>\n",
       "      <th>Age</th>\n",
       "      <th>Place</th>\n",
       "      <th>Occupation</th>\n",
       "    </tr>\n",
       "  </thead>\n",
       "  <tbody>\n",
       "    <tr>\n",
       "      <th>0</th>\n",
       "      <td>J</td>\n",
       "      <td>20</td>\n",
       "      <td>NY</td>\n",
       "      <td>Engineer</td>\n",
       "    </tr>\n",
       "    <tr>\n",
       "      <th>1</th>\n",
       "      <td>K</td>\n",
       "      <td>30</td>\n",
       "      <td>London</td>\n",
       "      <td>Doctor</td>\n",
       "    </tr>\n",
       "    <tr>\n",
       "      <th>2</th>\n",
       "      <td>l</td>\n",
       "      <td>40</td>\n",
       "      <td>Delhi</td>\n",
       "      <td>Teacher</td>\n",
       "    </tr>\n",
       "  </tbody>\n",
       "</table>\n",
       "</div>"
      ],
      "text/plain": [
       "  Name  Age   Place Occupation\n",
       "0    J   20      NY   Engineer\n",
       "1    K   30  London     Doctor\n",
       "2    l   40   Delhi    Teacher"
      ]
     },
     "execution_count": 15,
     "metadata": {},
     "output_type": "execute_result"
    }
   ],
   "source": [
    "df"
   ]
  },
  {
   "cell_type": "markdown",
   "id": "f3a07b02",
   "metadata": {
    "papermill": {
     "duration": 0.023646,
     "end_time": "2023-10-30T11:40:18.958705",
     "exception": false,
     "start_time": "2023-10-30T11:40:18.935059",
     "status": "completed"
    },
    "tags": []
   },
   "source": [
    "Numpy\n"
   ]
  },
  {
   "cell_type": "code",
   "execution_count": 16,
   "id": "41622ee2",
   "metadata": {
    "execution": {
     "iopub.execute_input": "2023-10-30T11:40:19.013725Z",
     "iopub.status.busy": "2023-10-30T11:40:19.012945Z",
     "iopub.status.idle": "2023-10-30T11:40:19.017208Z",
     "shell.execute_reply": "2023-10-30T11:40:19.016377Z"
    },
    "papermill": {
     "duration": 0.035724,
     "end_time": "2023-10-30T11:40:19.019610",
     "exception": false,
     "start_time": "2023-10-30T11:40:18.983886",
     "status": "completed"
    },
    "tags": []
   },
   "outputs": [],
   "source": [
    "import numpy as np"
   ]
  },
  {
   "cell_type": "code",
   "execution_count": 17,
   "id": "8941a8d8",
   "metadata": {
    "execution": {
     "iopub.execute_input": "2023-10-30T11:40:19.071607Z",
     "iopub.status.busy": "2023-10-30T11:40:19.070264Z",
     "iopub.status.idle": "2023-10-30T11:40:19.075761Z",
     "shell.execute_reply": "2023-10-30T11:40:19.074731Z"
    },
    "papermill": {
     "duration": 0.033894,
     "end_time": "2023-10-30T11:40:19.078423",
     "exception": false,
     "start_time": "2023-10-30T11:40:19.044529",
     "status": "completed"
    },
    "tags": []
   },
   "outputs": [],
   "source": [
    "arr = [1,2,3,4,5]\n",
    "arr1 = np.array(arr)"
   ]
  },
  {
   "cell_type": "code",
   "execution_count": 18,
   "id": "02bf1ae4",
   "metadata": {
    "execution": {
     "iopub.execute_input": "2023-10-30T11:40:19.131441Z",
     "iopub.status.busy": "2023-10-30T11:40:19.130620Z",
     "iopub.status.idle": "2023-10-30T11:40:19.138376Z",
     "shell.execute_reply": "2023-10-30T11:40:19.137020Z"
    },
    "papermill": {
     "duration": 0.037048,
     "end_time": "2023-10-30T11:40:19.141067",
     "exception": false,
     "start_time": "2023-10-30T11:40:19.104019",
     "status": "completed"
    },
    "tags": []
   },
   "outputs": [
    {
     "data": {
      "text/plain": [
       "array([1, 2, 3, 4, 5])"
      ]
     },
     "execution_count": 18,
     "metadata": {},
     "output_type": "execute_result"
    }
   ],
   "source": [
    "arr1"
   ]
  },
  {
   "cell_type": "code",
   "execution_count": 19,
   "id": "718ac9f3",
   "metadata": {
    "execution": {
     "iopub.execute_input": "2023-10-30T11:40:19.193809Z",
     "iopub.status.busy": "2023-10-30T11:40:19.192838Z",
     "iopub.status.idle": "2023-10-30T11:40:19.199138Z",
     "shell.execute_reply": "2023-10-30T11:40:19.198250Z"
    },
    "papermill": {
     "duration": 0.036017,
     "end_time": "2023-10-30T11:40:19.201611",
     "exception": false,
     "start_time": "2023-10-30T11:40:19.165594",
     "status": "completed"
    },
    "tags": []
   },
   "outputs": [],
   "source": [
    "arr2 = np.array([[1,2,3,4,5], [6,7,8,9,0]])"
   ]
  },
  {
   "cell_type": "code",
   "execution_count": 20,
   "id": "b0f4f764",
   "metadata": {
    "execution": {
     "iopub.execute_input": "2023-10-30T11:40:19.252267Z",
     "iopub.status.busy": "2023-10-30T11:40:19.251509Z",
     "iopub.status.idle": "2023-10-30T11:40:19.258562Z",
     "shell.execute_reply": "2023-10-30T11:40:19.257716Z"
    },
    "papermill": {
     "duration": 0.034461,
     "end_time": "2023-10-30T11:40:19.260820",
     "exception": false,
     "start_time": "2023-10-30T11:40:19.226359",
     "status": "completed"
    },
    "tags": []
   },
   "outputs": [
    {
     "data": {
      "text/plain": [
       "array([[1, 2, 3, 4, 5],\n",
       "       [6, 7, 8, 9, 0]])"
      ]
     },
     "execution_count": 20,
     "metadata": {},
     "output_type": "execute_result"
    }
   ],
   "source": [
    "arr2"
   ]
  },
  {
   "cell_type": "code",
   "execution_count": 21,
   "id": "e5aabce7",
   "metadata": {
    "execution": {
     "iopub.execute_input": "2023-10-30T11:40:19.312520Z",
     "iopub.status.busy": "2023-10-30T11:40:19.311833Z",
     "iopub.status.idle": "2023-10-30T11:40:19.318676Z",
     "shell.execute_reply": "2023-10-30T11:40:19.317780Z"
    },
    "papermill": {
     "duration": 0.034943,
     "end_time": "2023-10-30T11:40:19.321130",
     "exception": false,
     "start_time": "2023-10-30T11:40:19.286187",
     "status": "completed"
    },
    "tags": []
   },
   "outputs": [
    {
     "data": {
      "text/plain": [
       "(2, 5)"
      ]
     },
     "execution_count": 21,
     "metadata": {},
     "output_type": "execute_result"
    }
   ],
   "source": [
    "arr2.shape"
   ]
  },
  {
   "cell_type": "code",
   "execution_count": 22,
   "id": "cada8a25",
   "metadata": {
    "execution": {
     "iopub.execute_input": "2023-10-30T11:40:19.372643Z",
     "iopub.status.busy": "2023-10-30T11:40:19.371472Z",
     "iopub.status.idle": "2023-10-30T11:40:19.378710Z",
     "shell.execute_reply": "2023-10-30T11:40:19.377500Z"
    },
    "papermill": {
     "duration": 0.035746,
     "end_time": "2023-10-30T11:40:19.381336",
     "exception": false,
     "start_time": "2023-10-30T11:40:19.345590",
     "status": "completed"
    },
    "tags": []
   },
   "outputs": [
    {
     "data": {
      "text/plain": [
       "10"
      ]
     },
     "execution_count": 22,
     "metadata": {},
     "output_type": "execute_result"
    }
   ],
   "source": [
    "arr2.size"
   ]
  },
  {
   "cell_type": "code",
   "execution_count": 23,
   "id": "196ee249",
   "metadata": {
    "execution": {
     "iopub.execute_input": "2023-10-30T11:40:19.434698Z",
     "iopub.status.busy": "2023-10-30T11:40:19.433933Z",
     "iopub.status.idle": "2023-10-30T11:40:19.440537Z",
     "shell.execute_reply": "2023-10-30T11:40:19.439418Z"
    },
    "papermill": {
     "duration": 0.03712,
     "end_time": "2023-10-30T11:40:19.442937",
     "exception": false,
     "start_time": "2023-10-30T11:40:19.405817",
     "status": "completed"
    },
    "tags": []
   },
   "outputs": [
    {
     "data": {
      "text/plain": [
       "45"
      ]
     },
     "execution_count": 23,
     "metadata": {},
     "output_type": "execute_result"
    }
   ],
   "source": [
    "np.sum(arr2)"
   ]
  },
  {
   "cell_type": "code",
   "execution_count": 24,
   "id": "1c3311aa",
   "metadata": {
    "execution": {
     "iopub.execute_input": "2023-10-30T11:40:19.495469Z",
     "iopub.status.busy": "2023-10-30T11:40:19.494750Z",
     "iopub.status.idle": "2023-10-30T11:40:19.502810Z",
     "shell.execute_reply": "2023-10-30T11:40:19.501608Z"
    },
    "papermill": {
     "duration": 0.037818,
     "end_time": "2023-10-30T11:40:19.505728",
     "exception": false,
     "start_time": "2023-10-30T11:40:19.467910",
     "status": "completed"
    },
    "tags": []
   },
   "outputs": [
    {
     "data": {
      "text/plain": [
       "array([3., 6.])"
      ]
     },
     "execution_count": 24,
     "metadata": {},
     "output_type": "execute_result"
    }
   ],
   "source": [
    "mean = np.mean(arr2, axis =1)\n",
    "mean"
   ]
  },
  {
   "cell_type": "markdown",
   "id": "714a4ee8",
   "metadata": {
    "papermill": {
     "duration": 0.025789,
     "end_time": "2023-10-30T11:40:19.556319",
     "exception": false,
     "start_time": "2023-10-30T11:40:19.530530",
     "status": "completed"
    },
    "tags": []
   },
   "source": [
    "Data Manipulation\n"
   ]
  },
  {
   "cell_type": "code",
   "execution_count": 25,
   "id": "289349e1",
   "metadata": {
    "execution": {
     "iopub.execute_input": "2023-10-30T11:40:19.610085Z",
     "iopub.status.busy": "2023-10-30T11:40:19.609394Z",
     "iopub.status.idle": "2023-10-30T11:40:19.616190Z",
     "shell.execute_reply": "2023-10-30T11:40:19.614991Z"
    },
    "papermill": {
     "duration": 0.036186,
     "end_time": "2023-10-30T11:40:19.619116",
     "exception": false,
     "start_time": "2023-10-30T11:40:19.582930",
     "status": "completed"
    },
    "tags": []
   },
   "outputs": [
    {
     "data": {
      "text/plain": [
       "array([[ 2,  4,  6,  8, 10],\n",
       "       [12, 14, 16, 18,  0]])"
      ]
     },
     "execution_count": 25,
     "metadata": {},
     "output_type": "execute_result"
    }
   ],
   "source": [
    "mul_arr = arr2 * 2\n",
    "mul_arr"
   ]
  },
  {
   "cell_type": "code",
   "execution_count": 26,
   "id": "1e3eafa8",
   "metadata": {
    "execution": {
     "iopub.execute_input": "2023-10-30T11:40:19.672269Z",
     "iopub.status.busy": "2023-10-30T11:40:19.671830Z",
     "iopub.status.idle": "2023-10-30T11:40:19.681534Z",
     "shell.execute_reply": "2023-10-30T11:40:19.680349Z"
    },
    "papermill": {
     "duration": 0.039025,
     "end_time": "2023-10-30T11:40:19.684060",
     "exception": false,
     "start_time": "2023-10-30T11:40:19.645035",
     "status": "completed"
    },
    "tags": []
   },
   "outputs": [
    {
     "data": {
      "text/plain": [
       "array([[ 5, 12],\n",
       "       [21, 32]])"
      ]
     },
     "execution_count": 26,
     "metadata": {},
     "output_type": "execute_result"
    }
   ],
   "source": [
    "arr3 = np.array([[1,2], [3,4]])\n",
    "arr4 = np.array([[5,6], [7,8]])\n",
    "arr5 = arr3 * arr4\n",
    "arr5"
   ]
  },
  {
   "cell_type": "code",
   "execution_count": 27,
   "id": "c03af644",
   "metadata": {
    "execution": {
     "iopub.execute_input": "2023-10-30T11:40:19.738497Z",
     "iopub.status.busy": "2023-10-30T11:40:19.738080Z",
     "iopub.status.idle": "2023-10-30T11:40:19.744393Z",
     "shell.execute_reply": "2023-10-30T11:40:19.743217Z"
    },
    "papermill": {
     "duration": 0.036958,
     "end_time": "2023-10-30T11:40:19.746999",
     "exception": false,
     "start_time": "2023-10-30T11:40:19.710041",
     "status": "completed"
    },
    "tags": []
   },
   "outputs": [
    {
     "name": "stdout",
     "output_type": "stream",
     "text": [
      "[[1 2]\n",
      " [3 4]]\n",
      "[[5 6]\n",
      " [7 8]]\n"
     ]
    }
   ],
   "source": [
    "print(arr3)\n",
    "print(arr4)"
   ]
  },
  {
   "cell_type": "code",
   "execution_count": 28,
   "id": "8285440e",
   "metadata": {
    "execution": {
     "iopub.execute_input": "2023-10-30T11:40:19.801057Z",
     "iopub.status.busy": "2023-10-30T11:40:19.800633Z",
     "iopub.status.idle": "2023-10-30T11:40:19.807724Z",
     "shell.execute_reply": "2023-10-30T11:40:19.806832Z"
    },
    "papermill": {
     "duration": 0.037926,
     "end_time": "2023-10-30T11:40:19.810002",
     "exception": false,
     "start_time": "2023-10-30T11:40:19.772076",
     "status": "completed"
    },
    "tags": []
   },
   "outputs": [
    {
     "data": {
      "text/plain": [
       "array([[19, 22],\n",
       "       [43, 50]])"
      ]
     },
     "execution_count": 28,
     "metadata": {},
     "output_type": "execute_result"
    }
   ],
   "source": [
    "mat_mul = np.dot(arr3, arr4)\n",
    "mat_mul"
   ]
  },
  {
   "cell_type": "markdown",
   "id": "dc6891db",
   "metadata": {
    "papermill": {
     "duration": 0.026771,
     "end_time": "2023-10-30T11:40:19.864179",
     "exception": false,
     "start_time": "2023-10-30T11:40:19.837408",
     "status": "completed"
    },
    "tags": []
   },
   "source": [
    "MatplotLib"
   ]
  },
  {
   "cell_type": "code",
   "execution_count": 29,
   "id": "b3694bbc",
   "metadata": {
    "execution": {
     "iopub.execute_input": "2023-10-30T11:40:19.919781Z",
     "iopub.status.busy": "2023-10-30T11:40:19.919350Z",
     "iopub.status.idle": "2023-10-30T11:40:19.924541Z",
     "shell.execute_reply": "2023-10-30T11:40:19.923386Z"
    },
    "papermill": {
     "duration": 0.034184,
     "end_time": "2023-10-30T11:40:19.926852",
     "exception": false,
     "start_time": "2023-10-30T11:40:19.892668",
     "status": "completed"
    },
    "tags": []
   },
   "outputs": [],
   "source": [
    "from matplotlib import pyplot as plt\n",
    "import numpy as np"
   ]
  },
  {
   "cell_type": "code",
   "execution_count": 30,
   "id": "fb0c3e0f",
   "metadata": {
    "execution": {
     "iopub.execute_input": "2023-10-30T11:40:19.979201Z",
     "iopub.status.busy": "2023-10-30T11:40:19.978789Z",
     "iopub.status.idle": "2023-10-30T11:40:19.988028Z",
     "shell.execute_reply": "2023-10-30T11:40:19.986805Z"
    },
    "papermill": {
     "duration": 0.038334,
     "end_time": "2023-10-30T11:40:19.990518",
     "exception": false,
     "start_time": "2023-10-30T11:40:19.952184",
     "status": "completed"
    },
    "tags": []
   },
   "outputs": [
    {
     "data": {
      "text/plain": [
       "array([ 0.        ,  0.1010101 ,  0.2020202 ,  0.3030303 ,  0.4040404 ,\n",
       "        0.50505051,  0.60606061,  0.70707071,  0.80808081,  0.90909091,\n",
       "        1.01010101,  1.11111111,  1.21212121,  1.31313131,  1.41414141,\n",
       "        1.51515152,  1.61616162,  1.71717172,  1.81818182,  1.91919192,\n",
       "        2.02020202,  2.12121212,  2.22222222,  2.32323232,  2.42424242,\n",
       "        2.52525253,  2.62626263,  2.72727273,  2.82828283,  2.92929293,\n",
       "        3.03030303,  3.13131313,  3.23232323,  3.33333333,  3.43434343,\n",
       "        3.53535354,  3.63636364,  3.73737374,  3.83838384,  3.93939394,\n",
       "        4.04040404,  4.14141414,  4.24242424,  4.34343434,  4.44444444,\n",
       "        4.54545455,  4.64646465,  4.74747475,  4.84848485,  4.94949495,\n",
       "        5.05050505,  5.15151515,  5.25252525,  5.35353535,  5.45454545,\n",
       "        5.55555556,  5.65656566,  5.75757576,  5.85858586,  5.95959596,\n",
       "        6.06060606,  6.16161616,  6.26262626,  6.36363636,  6.46464646,\n",
       "        6.56565657,  6.66666667,  6.76767677,  6.86868687,  6.96969697,\n",
       "        7.07070707,  7.17171717,  7.27272727,  7.37373737,  7.47474747,\n",
       "        7.57575758,  7.67676768,  7.77777778,  7.87878788,  7.97979798,\n",
       "        8.08080808,  8.18181818,  8.28282828,  8.38383838,  8.48484848,\n",
       "        8.58585859,  8.68686869,  8.78787879,  8.88888889,  8.98989899,\n",
       "        9.09090909,  9.19191919,  9.29292929,  9.39393939,  9.49494949,\n",
       "        9.5959596 ,  9.6969697 ,  9.7979798 ,  9.8989899 , 10.        ])"
      ]
     },
     "execution_count": 30,
     "metadata": {},
     "output_type": "execute_result"
    }
   ],
   "source": [
    "x = np.linspace(0, 10, 100)\n",
    "x"
   ]
  },
  {
   "cell_type": "code",
   "execution_count": 31,
   "id": "158f648f",
   "metadata": {
    "execution": {
     "iopub.execute_input": "2023-10-30T11:40:20.045261Z",
     "iopub.status.busy": "2023-10-30T11:40:20.044833Z",
     "iopub.status.idle": "2023-10-30T11:40:20.055453Z",
     "shell.execute_reply": "2023-10-30T11:40:20.054298Z"
    },
    "papermill": {
     "duration": 0.040332,
     "end_time": "2023-10-30T11:40:20.057886",
     "exception": false,
     "start_time": "2023-10-30T11:40:20.017554",
     "status": "completed"
    },
    "tags": []
   },
   "outputs": [
    {
     "data": {
      "text/plain": [
       "array([ 0.        ,  0.10083842,  0.20064886,  0.2984138 ,  0.39313661,\n",
       "        0.48385164,  0.56963411,  0.64960951,  0.72296256,  0.78894546,\n",
       "        0.84688556,  0.8961922 ,  0.93636273,  0.96698762,  0.98775469,\n",
       "        0.99845223,  0.99897117,  0.98930624,  0.96955595,  0.93992165,\n",
       "        0.90070545,  0.85230712,  0.79522006,  0.73002623,  0.65739025,\n",
       "        0.57805259,  0.49282204,  0.40256749,  0.30820902,  0.21070855,\n",
       "        0.11106004,  0.01027934, -0.09060615, -0.19056796, -0.28858706,\n",
       "       -0.38366419, -0.47483011, -0.56115544, -0.64176014, -0.7158225 ,\n",
       "       -0.7825875 , -0.84137452, -0.89158426, -0.93270486, -0.96431712,\n",
       "       -0.98609877, -0.99782778, -0.99938456, -0.99075324, -0.97202182,\n",
       "       -0.94338126, -0.90512352, -0.85763861, -0.80141062, -0.73701276,\n",
       "       -0.66510151, -0.58640998, -0.50174037, -0.41195583, -0.31797166,\n",
       "       -0.22074597, -0.12126992, -0.0205576 ,  0.0803643 ,  0.18046693,\n",
       "        0.27872982,  0.37415123,  0.46575841,  0.55261747,  0.63384295,\n",
       "        0.7086068 ,  0.77614685,  0.83577457,  0.8868821 ,  0.92894843,\n",
       "        0.96154471,  0.98433866,  0.99709789,  0.99969234,  0.99209556,\n",
       "        0.97438499,  0.94674118,  0.90944594,  0.86287948,  0.8075165 ,\n",
       "        0.74392141,  0.6727425 ,  0.59470541,  0.51060568,  0.42130064,\n",
       "        0.32770071,  0.23076008,  0.13146699,  0.03083368, -0.07011396,\n",
       "       -0.17034683, -0.26884313, -0.36459873, -0.45663749, -0.54402111])"
      ]
     },
     "execution_count": 31,
     "metadata": {},
     "output_type": "execute_result"
    }
   ],
   "source": [
    "y1 = np.sin(x)\n",
    "y1"
   ]
  },
  {
   "cell_type": "code",
   "execution_count": 32,
   "id": "257f5d8a",
   "metadata": {
    "execution": {
     "iopub.execute_input": "2023-10-30T11:40:20.112765Z",
     "iopub.status.busy": "2023-10-30T11:40:20.112343Z",
     "iopub.status.idle": "2023-10-30T11:40:20.121604Z",
     "shell.execute_reply": "2023-10-30T11:40:20.120335Z"
    },
    "papermill": {
     "duration": 0.04057,
     "end_time": "2023-10-30T11:40:20.124176",
     "exception": false,
     "start_time": "2023-10-30T11:40:20.083606",
     "status": "completed"
    },
    "tags": []
   },
   "outputs": [
    {
     "data": {
      "text/plain": [
       "array([ 1.        ,  0.99490282,  0.97966323,  0.95443659,  0.91948007,\n",
       "        0.87515004,  0.8218984 ,  0.76026803,  0.69088721,  0.61446323,\n",
       "        0.53177518,  0.44366602,  0.35103397,  0.25482335,  0.15601496,\n",
       "        0.0556161 , -0.04534973, -0.14585325, -0.24486989, -0.34139023,\n",
       "       -0.43443032, -0.52304166, -0.60632092, -0.68341913, -0.75355031,\n",
       "       -0.81599952, -0.87013012, -0.91539031, -0.95131866, -0.97754893,\n",
       "       -0.9938137 , -0.99994717, -0.9958868 , -0.981674  , -0.95745366,\n",
       "       -0.92347268, -0.88007748, -0.82771044, -0.76690542, -0.69828229,\n",
       "       -0.6225406 , -0.54045251, -0.45285485, -0.36064061, -0.26474988,\n",
       "       -0.16616018, -0.06587659,  0.03507857,  0.13567613,  0.23489055,\n",
       "        0.33171042,  0.4251487 ,  0.51425287,  0.59811455,  0.67587883,\n",
       "        0.74675295,  0.8100144 ,  0.86501827,  0.91120382,  0.94810022,\n",
       "        0.97533134,  0.99261957,  0.99978867,  0.99676556,  0.98358105,\n",
       "        0.96036956,  0.9273677 ,  0.88491192,  0.83343502,  0.77346177,\n",
       "        0.70560358,  0.63055219,  0.54907273,  0.46199582,  0.37020915,\n",
       "        0.27464844,  0.17628785,  0.07613012, -0.0248037 , -0.12548467,\n",
       "       -0.2248864 , -0.32199555, -0.41582217, -0.50540974, -0.58984498,\n",
       "       -0.66826712, -0.7398767 , -0.8039437 , -0.859815  , -0.90692104,\n",
       "       -0.94478159, -0.97301068, -0.99132055, -0.99952453, -0.99753899,\n",
       "       -0.98538417, -0.96318398, -0.93116473, -0.88965286, -0.83907153])"
      ]
     },
     "execution_count": 32,
     "metadata": {},
     "output_type": "execute_result"
    }
   ],
   "source": [
    "y2 = np.cos(x)\n",
    "y2"
   ]
  },
  {
   "cell_type": "code",
   "execution_count": 33,
   "id": "9ea430f6",
   "metadata": {
    "execution": {
     "iopub.execute_input": "2023-10-30T11:40:20.177702Z",
     "iopub.status.busy": "2023-10-30T11:40:20.177314Z",
     "iopub.status.idle": "2023-10-30T11:40:20.502252Z",
     "shell.execute_reply": "2023-10-30T11:40:20.501064Z"
    },
    "papermill": {
     "duration": 0.354953,
     "end_time": "2023-10-30T11:40:20.505062",
     "exception": false,
     "start_time": "2023-10-30T11:40:20.150109",
     "status": "completed"
    },
    "tags": []
   },
   "outputs": [
    {
     "data": {
      "image/png": "[encoded data removed]",
      "text/plain": [
       "<Figure size 400x200 with 1 Axes>"
      ]
     },
     "metadata": {},
     "output_type": "display_data"
    }
   ],
   "source": [
    "plt.figure(figsize = (4,2))\n",
    "plt.plot(x, y1,label='sin(x)', color='b', linestyle='--')\n",
    "plt.plot(x, y2, label = 'cos(x)', color = 'r', linestyle = '-')\n",
    "plt.title('Sine and Cosine function line graph')\n",
    "plt.xlabel('X Axis')\n",
    "plt.ylabel('Y Axis')\n",
    "plt.xlim(0,20)\n",
    "plt.ylim(-2, 2)\n",
    "plt.legend()\n",
    "plt.show()"
   ]
  },
  {
   "cell_type": "markdown",
   "id": "bcf1a182",
   "metadata": {
    "papermill": {
     "duration": 0.026023,
     "end_time": "2023-10-30T11:40:20.557381",
     "exception": false,
     "start_time": "2023-10-30T11:40:20.531358",
     "status": "completed"
    },
    "tags": []
   },
   "source": [
    "# Capstone Project Section"
   ]
  },
  {
   "cell_type": "markdown",
   "id": "b11f524b",
   "metadata": {
    "papermill": {
     "duration": 0.026946,
     "end_time": "2023-10-30T11:40:20.610753",
     "exception": false,
     "start_time": "2023-10-30T11:40:20.583807",
     "status": "completed"
    },
    "tags": []
   },
   "source": []
  },
  {
   "cell_type": "code",
   "execution_count": 34,
   "id": "a726aaa2",
   "metadata": {
    "execution": {
     "iopub.execute_input": "2023-10-30T11:40:20.665036Z",
     "iopub.status.busy": "2023-10-30T11:40:20.664640Z",
     "iopub.status.idle": "2023-10-30T11:40:22.494246Z",
     "shell.execute_reply": "2023-10-30T11:40:22.492925Z"
    },
    "papermill": {
     "duration": 1.860153,
     "end_time": "2023-10-30T11:40:22.497185",
     "exception": false,
     "start_time": "2023-10-30T11:40:20.637032",
     "status": "completed"
    },
    "tags": []
   },
   "outputs": [],
   "source": [
    "import pandas as pd\n",
    "import numpy as np\n",
    "from matplotlib import pyplot as plt\n",
    "import seaborn as sns"
   ]
  },
  {
   "cell_type": "code",
   "execution_count": 35,
   "id": "a0c4dcb2",
   "metadata": {
    "execution": {
     "iopub.execute_input": "2023-10-30T11:40:22.556379Z",
     "iopub.status.busy": "2023-10-30T11:40:22.555954Z",
     "iopub.status.idle": "2023-10-30T11:40:22.620767Z",
     "shell.execute_reply": "2023-10-30T11:40:22.619420Z"
    },
    "papermill": {
     "duration": 0.098451,
     "end_time": "2023-10-30T11:40:22.623445",
     "exception": false,
     "start_time": "2023-10-30T11:40:22.524994",
     "status": "completed"
    },
    "tags": []
   },
   "outputs": [
    {
     "data": {
      "text/html": [
       "<div>\n",
       "<style scoped>\n",
       "    .dataframe tbody tr th:only-of-type {\n",
       "        vertical-align: middle;\n",
       "    }\n",
       "\n",
       "    .dataframe tbody tr th {\n",
       "        vertical-align: top;\n",
       "    }\n",
       "\n",
       "    .dataframe thead th {\n",
       "        text-align: right;\n",
       "    }\n",
       "</style>\n",
       "<table border=\"1\" class=\"dataframe\">\n",
       "  <thead>\n",
       "    <tr style=\"text-align: right;\">\n",
       "      <th></th>\n",
       "      <th>S.No.</th>\n",
       "      <th>Name</th>\n",
       "      <th>Location</th>\n",
       "      <th>Year</th>\n",
       "      <th>Kilometers_Driven</th>\n",
       "      <th>Fuel_Type</th>\n",
       "      <th>Transmission</th>\n",
       "      <th>Owner_Type</th>\n",
       "      <th>Mileage</th>\n",
       "      <th>Engine</th>\n",
       "      <th>Power</th>\n",
       "      <th>Seats</th>\n",
       "      <th>New_Price</th>\n",
       "      <th>Price</th>\n",
       "    </tr>\n",
       "  </thead>\n",
       "  <tbody>\n",
       "    <tr>\n",
       "      <th>0</th>\n",
       "      <td>0</td>\n",
       "      <td>Maruti Wagon R LXI CNG</td>\n",
       "      <td>Mumbai</td>\n",
       "      <td>2010</td>\n",
       "      <td>72000</td>\n",
       "      <td>CNG</td>\n",
       "      <td>Manual</td>\n",
       "      <td>First</td>\n",
       "      <td>26.6 km/kg</td>\n",
       "      <td>998 CC</td>\n",
       "      <td>58.16 bhp</td>\n",
       "      <td>5.0</td>\n",
       "      <td>NaN</td>\n",
       "      <td>1.75</td>\n",
       "    </tr>\n",
       "    <tr>\n",
       "      <th>1</th>\n",
       "      <td>1</td>\n",
       "      <td>Hyundai Creta 1.6 CRDi SX Option</td>\n",
       "      <td>Pune</td>\n",
       "      <td>2015</td>\n",
       "      <td>41000</td>\n",
       "      <td>Diesel</td>\n",
       "      <td>Manual</td>\n",
       "      <td>First</td>\n",
       "      <td>19.67 kmpl</td>\n",
       "      <td>1582 CC</td>\n",
       "      <td>126.2 bhp</td>\n",
       "      <td>5.0</td>\n",
       "      <td>NaN</td>\n",
       "      <td>12.50</td>\n",
       "    </tr>\n",
       "  </tbody>\n",
       "</table>\n",
       "</div>"
      ],
      "text/plain": [
       "   S.No.                              Name Location  Year  Kilometers_Driven  \\\n",
       "0      0            Maruti Wagon R LXI CNG   Mumbai  2010              72000   \n",
       "1      1  Hyundai Creta 1.6 CRDi SX Option     Pune  2015              41000   \n",
       "\n",
       "  Fuel_Type Transmission Owner_Type     Mileage   Engine      Power  Seats  \\\n",
       "0       CNG       Manual      First  26.6 km/kg   998 CC  58.16 bhp    5.0   \n",
       "1    Diesel       Manual      First  19.67 kmpl  1582 CC  126.2 bhp    5.0   \n",
       "\n",
       "  New_Price  Price  \n",
       "0       NaN   1.75  \n",
       "1       NaN  12.50  "
      ]
     },
     "execution_count": 35,
     "metadata": {},
     "output_type": "execute_result"
    }
   ],
   "source": [
    "csv = pd.read_csv(\"/kaggle/input/capstoneday1/used_cars_data1.csv\")\n",
    "csv.head(2)"
   ]
  },
  {
   "cell_type": "code",
   "execution_count": 36,
   "id": "8f835ac0",
   "metadata": {
    "execution": {
     "iopub.execute_input": "2023-10-30T11:40:22.681504Z",
     "iopub.status.busy": "2023-10-30T11:40:22.680636Z",
     "iopub.status.idle": "2023-10-30T11:40:22.687934Z",
     "shell.execute_reply": "2023-10-30T11:40:22.686828Z"
    },
    "papermill": {
     "duration": 0.039201,
     "end_time": "2023-10-30T11:40:22.690357",
     "exception": false,
     "start_time": "2023-10-30T11:40:22.651156",
     "status": "completed"
    },
    "tags": []
   },
   "outputs": [
    {
     "data": {
      "text/plain": [
       "(7253, 14)"
      ]
     },
     "execution_count": 36,
     "metadata": {},
     "output_type": "execute_result"
    }
   ],
   "source": [
    "csv.shape"
   ]
  },
  {
   "cell_type": "code",
   "execution_count": 37,
   "id": "780ce83e",
   "metadata": {
    "execution": {
     "iopub.execute_input": "2023-10-30T11:40:22.748209Z",
     "iopub.status.busy": "2023-10-30T11:40:22.747567Z",
     "iopub.status.idle": "2023-10-30T11:40:22.754916Z",
     "shell.execute_reply": "2023-10-30T11:40:22.753760Z"
    },
    "papermill": {
     "duration": 0.039235,
     "end_time": "2023-10-30T11:40:22.757299",
     "exception": false,
     "start_time": "2023-10-30T11:40:22.718064",
     "status": "completed"
    },
    "tags": []
   },
   "outputs": [
    {
     "data": {
      "text/plain": [
       "14"
      ]
     },
     "execution_count": 37,
     "metadata": {},
     "output_type": "execute_result"
    }
   ],
   "source": [
    "csv.head(1).size"
   ]
  },
  {
   "cell_type": "code",
   "execution_count": 38,
   "id": "a6f5e5c2",
   "metadata": {
    "execution": {
     "iopub.execute_input": "2023-10-30T11:40:22.816333Z",
     "iopub.status.busy": "2023-10-30T11:40:22.815665Z",
     "iopub.status.idle": "2023-10-30T11:40:22.837635Z",
     "shell.execute_reply": "2023-10-30T11:40:22.836396Z"
    },
    "papermill": {
     "duration": 0.054814,
     "end_time": "2023-10-30T11:40:22.840117",
     "exception": false,
     "start_time": "2023-10-30T11:40:22.785303",
     "status": "completed"
    },
    "tags": []
   },
   "outputs": [
    {
     "data": {
      "text/html": [
       "<div>\n",
       "<style scoped>\n",
       "    .dataframe tbody tr th:only-of-type {\n",
       "        vertical-align: middle;\n",
       "    }\n",
       "\n",
       "    .dataframe tbody tr th {\n",
       "        vertical-align: top;\n",
       "    }\n",
       "\n",
       "    .dataframe thead th {\n",
       "        text-align: right;\n",
       "    }\n",
       "</style>\n",
       "<table border=\"1\" class=\"dataframe\">\n",
       "  <thead>\n",
       "    <tr style=\"text-align: right;\">\n",
       "      <th></th>\n",
       "      <th>S.No.</th>\n",
       "      <th>Name</th>\n",
       "      <th>Location</th>\n",
       "      <th>Year</th>\n",
       "      <th>Kilometers_Driven</th>\n",
       "      <th>Fuel_Type</th>\n",
       "      <th>Transmission</th>\n",
       "      <th>Owner_Type</th>\n",
       "      <th>Mileage</th>\n",
       "      <th>Engine</th>\n",
       "      <th>Power</th>\n",
       "      <th>Seats</th>\n",
       "      <th>New_Price</th>\n",
       "      <th>Price</th>\n",
       "    </tr>\n",
       "  </thead>\n",
       "  <tbody>\n",
       "    <tr>\n",
       "      <th>7248</th>\n",
       "      <td>7248</td>\n",
       "      <td>Volkswagen Vento Diesel Trendline</td>\n",
       "      <td>Hyderabad</td>\n",
       "      <td>2011</td>\n",
       "      <td>89411</td>\n",
       "      <td>Diesel</td>\n",
       "      <td>Manual</td>\n",
       "      <td>First</td>\n",
       "      <td>20.54 kmpl</td>\n",
       "      <td>1598 CC</td>\n",
       "      <td>103.6 bhp</td>\n",
       "      <td>5.0</td>\n",
       "      <td>NaN</td>\n",
       "      <td>NaN</td>\n",
       "    </tr>\n",
       "    <tr>\n",
       "      <th>7249</th>\n",
       "      <td>7249</td>\n",
       "      <td>Volkswagen Polo GT TSI</td>\n",
       "      <td>Mumbai</td>\n",
       "      <td>2015</td>\n",
       "      <td>59000</td>\n",
       "      <td>Petrol</td>\n",
       "      <td>Automatic</td>\n",
       "      <td>First</td>\n",
       "      <td>17.21 kmpl</td>\n",
       "      <td>1197 CC</td>\n",
       "      <td>103.6 bhp</td>\n",
       "      <td>5.0</td>\n",
       "      <td>NaN</td>\n",
       "      <td>NaN</td>\n",
       "    </tr>\n",
       "    <tr>\n",
       "      <th>7250</th>\n",
       "      <td>7250</td>\n",
       "      <td>Nissan Micra Diesel XV</td>\n",
       "      <td>Kolkata</td>\n",
       "      <td>2012</td>\n",
       "      <td>28000</td>\n",
       "      <td>Diesel</td>\n",
       "      <td>Manual</td>\n",
       "      <td>First</td>\n",
       "      <td>23.08 kmpl</td>\n",
       "      <td>1461 CC</td>\n",
       "      <td>63.1 bhp</td>\n",
       "      <td>5.0</td>\n",
       "      <td>NaN</td>\n",
       "      <td>NaN</td>\n",
       "    </tr>\n",
       "    <tr>\n",
       "      <th>7251</th>\n",
       "      <td>7251</td>\n",
       "      <td>Volkswagen Polo GT TSI</td>\n",
       "      <td>Pune</td>\n",
       "      <td>2013</td>\n",
       "      <td>52262</td>\n",
       "      <td>Petrol</td>\n",
       "      <td>Automatic</td>\n",
       "      <td>Third</td>\n",
       "      <td>17.2 kmpl</td>\n",
       "      <td>1197 CC</td>\n",
       "      <td>103.6 bhp</td>\n",
       "      <td>5.0</td>\n",
       "      <td>NaN</td>\n",
       "      <td>NaN</td>\n",
       "    </tr>\n",
       "    <tr>\n",
       "      <th>7252</th>\n",
       "      <td>7252</td>\n",
       "      <td>Mercedes-Benz E-Class 2009-2013 E 220 CDI Avan...</td>\n",
       "      <td>Kochi</td>\n",
       "      <td>2014</td>\n",
       "      <td>72443</td>\n",
       "      <td>Diesel</td>\n",
       "      <td>Automatic</td>\n",
       "      <td>First</td>\n",
       "      <td>10.0 kmpl</td>\n",
       "      <td>2148 CC</td>\n",
       "      <td>170 bhp</td>\n",
       "      <td>5.0</td>\n",
       "      <td>NaN</td>\n",
       "      <td>NaN</td>\n",
       "    </tr>\n",
       "  </tbody>\n",
       "</table>\n",
       "</div>"
      ],
      "text/plain": [
       "      S.No.                                               Name   Location  \\\n",
       "7248   7248                  Volkswagen Vento Diesel Trendline  Hyderabad   \n",
       "7249   7249                             Volkswagen Polo GT TSI     Mumbai   \n",
       "7250   7250                             Nissan Micra Diesel XV    Kolkata   \n",
       "7251   7251                             Volkswagen Polo GT TSI       Pune   \n",
       "7252   7252  Mercedes-Benz E-Class 2009-2013 E 220 CDI Avan...      Kochi   \n",
       "\n",
       "      Year  Kilometers_Driven Fuel_Type Transmission Owner_Type     Mileage  \\\n",
       "7248  2011              89411    Diesel       Manual      First  20.54 kmpl   \n",
       "7249  2015              59000    Petrol    Automatic      First  17.21 kmpl   \n",
       "7250  2012              28000    Diesel       Manual      First  23.08 kmpl   \n",
       "7251  2013              52262    Petrol    Automatic      Third   17.2 kmpl   \n",
       "7252  2014              72443    Diesel    Automatic      First   10.0 kmpl   \n",
       "\n",
       "       Engine      Power  Seats New_Price  Price  \n",
       "7248  1598 CC  103.6 bhp    5.0       NaN    NaN  \n",
       "7249  1197 CC  103.6 bhp    5.0       NaN    NaN  \n",
       "7250  1461 CC   63.1 bhp    5.0       NaN    NaN  \n",
       "7251  1197 CC  103.6 bhp    5.0       NaN    NaN  \n",
       "7252  2148 CC    170 bhp    5.0       NaN    NaN  "
      ]
     },
     "execution_count": 38,
     "metadata": {},
     "output_type": "execute_result"
    }
   ],
   "source": [
    "csv.tail()"
   ]
  },
  {
   "cell_type": "code",
   "execution_count": 39,
   "id": "a19ca45e",
   "metadata": {
    "execution": {
     "iopub.execute_input": "2023-10-30T11:40:22.911055Z",
     "iopub.status.busy": "2023-10-30T11:40:22.909928Z",
     "iopub.status.idle": "2023-10-30T11:40:22.946921Z",
     "shell.execute_reply": "2023-10-30T11:40:22.946035Z"
    },
    "papermill": {
     "duration": 0.078578,
     "end_time": "2023-10-30T11:40:22.949762",
     "exception": false,
     "start_time": "2023-10-30T11:40:22.871184",
     "status": "completed"
    },
    "tags": []
   },
   "outputs": [
    {
     "data": {
      "text/html": [
       "<div>\n",
       "<style scoped>\n",
       "    .dataframe tbody tr th:only-of-type {\n",
       "        vertical-align: middle;\n",
       "    }\n",
       "\n",
       "    .dataframe tbody tr th {\n",
       "        vertical-align: top;\n",
       "    }\n",
       "\n",
       "    .dataframe thead th {\n",
       "        text-align: right;\n",
       "    }\n",
       "</style>\n",
       "<table border=\"1\" class=\"dataframe\">\n",
       "  <thead>\n",
       "    <tr style=\"text-align: right;\">\n",
       "      <th></th>\n",
       "      <th>S.No.</th>\n",
       "      <th>Year</th>\n",
       "      <th>Kilometers_Driven</th>\n",
       "      <th>Seats</th>\n",
       "      <th>Price</th>\n",
       "    </tr>\n",
       "  </thead>\n",
       "  <tbody>\n",
       "    <tr>\n",
       "      <th>count</th>\n",
       "      <td>7253.000000</td>\n",
       "      <td>7253.000000</td>\n",
       "      <td>7.253000e+03</td>\n",
       "      <td>7200.000000</td>\n",
       "      <td>6019.000000</td>\n",
       "    </tr>\n",
       "    <tr>\n",
       "      <th>mean</th>\n",
       "      <td>3626.000000</td>\n",
       "      <td>2013.365366</td>\n",
       "      <td>5.869906e+04</td>\n",
       "      <td>5.279722</td>\n",
       "      <td>9.479468</td>\n",
       "    </tr>\n",
       "    <tr>\n",
       "      <th>std</th>\n",
       "      <td>2093.905084</td>\n",
       "      <td>3.254421</td>\n",
       "      <td>8.442772e+04</td>\n",
       "      <td>0.811660</td>\n",
       "      <td>11.187917</td>\n",
       "    </tr>\n",
       "    <tr>\n",
       "      <th>min</th>\n",
       "      <td>0.000000</td>\n",
       "      <td>1996.000000</td>\n",
       "      <td>1.710000e+02</td>\n",
       "      <td>0.000000</td>\n",
       "      <td>0.440000</td>\n",
       "    </tr>\n",
       "    <tr>\n",
       "      <th>25%</th>\n",
       "      <td>1813.000000</td>\n",
       "      <td>2011.000000</td>\n",
       "      <td>3.400000e+04</td>\n",
       "      <td>5.000000</td>\n",
       "      <td>3.500000</td>\n",
       "    </tr>\n",
       "    <tr>\n",
       "      <th>50%</th>\n",
       "      <td>3626.000000</td>\n",
       "      <td>2014.000000</td>\n",
       "      <td>5.341600e+04</td>\n",
       "      <td>5.000000</td>\n",
       "      <td>5.640000</td>\n",
       "    </tr>\n",
       "    <tr>\n",
       "      <th>75%</th>\n",
       "      <td>5439.000000</td>\n",
       "      <td>2016.000000</td>\n",
       "      <td>7.300000e+04</td>\n",
       "      <td>5.000000</td>\n",
       "      <td>9.950000</td>\n",
       "    </tr>\n",
       "    <tr>\n",
       "      <th>max</th>\n",
       "      <td>7252.000000</td>\n",
       "      <td>2019.000000</td>\n",
       "      <td>6.500000e+06</td>\n",
       "      <td>10.000000</td>\n",
       "      <td>160.000000</td>\n",
       "    </tr>\n",
       "  </tbody>\n",
       "</table>\n",
       "</div>"
      ],
      "text/plain": [
       "             S.No.         Year  Kilometers_Driven        Seats        Price\n",
       "count  7253.000000  7253.000000       7.253000e+03  7200.000000  6019.000000\n",
       "mean   3626.000000  2013.365366       5.869906e+04     5.279722     9.479468\n",
       "std    2093.905084     3.254421       8.442772e+04     0.811660    11.187917\n",
       "min       0.000000  1996.000000       1.710000e+02     0.000000     0.440000\n",
       "25%    1813.000000  2011.000000       3.400000e+04     5.000000     3.500000\n",
       "50%    3626.000000  2014.000000       5.341600e+04     5.000000     5.640000\n",
       "75%    5439.000000  2016.000000       7.300000e+04     5.000000     9.950000\n",
       "max    7252.000000  2019.000000       6.500000e+06    10.000000   160.000000"
      ]
     },
     "execution_count": 39,
     "metadata": {},
     "output_type": "execute_result"
    }
   ],
   "source": [
    "csv.describe()"
   ]
  },
  {
   "cell_type": "code",
   "execution_count": 40,
   "id": "7bd0db1d",
   "metadata": {
    "execution": {
     "iopub.execute_input": "2023-10-30T11:40:23.029543Z",
     "iopub.status.busy": "2023-10-30T11:40:23.028838Z",
     "iopub.status.idle": "2023-10-30T11:40:23.059760Z",
     "shell.execute_reply": "2023-10-30T11:40:23.058616Z"
    },
    "papermill": {
     "duration": 0.072906,
     "end_time": "2023-10-30T11:40:23.062714",
     "exception": false,
     "start_time": "2023-10-30T11:40:22.989808",
     "status": "completed"
    },
    "tags": []
   },
   "outputs": [
    {
     "name": "stdout",
     "output_type": "stream",
     "text": [
      "<class 'pandas.core.frame.DataFrame'>\n",
      "RangeIndex: 7253 entries, 0 to 7252\n",
      "Data columns (total 14 columns):\n",
      " #   Column             Non-Null Count  Dtype  \n",
      "---  ------             --------------  -----  \n",
      " 0   S.No.              7253 non-null   int64  \n",
      " 1   Name               7253 non-null   object \n",
      " 2   Location           7253 non-null   object \n",
      " 3   Year               7253 non-null   int64  \n",
      " 4   Kilometers_Driven  7253 non-null   int64  \n",
      " 5   Fuel_Type          7253 non-null   object \n",
      " 6   Transmission       7253 non-null   object \n",
      " 7   Owner_Type         7253 non-null   object \n",
      " 8   Mileage            7251 non-null   object \n",
      " 9   Engine             7207 non-null   object \n",
      " 10  Power              7207 non-null   object \n",
      " 11  Seats              7200 non-null   float64\n",
      " 12  New_Price          1006 non-null   object \n",
      " 13  Price              6019 non-null   float64\n",
      "dtypes: float64(2), int64(3), object(9)\n",
      "memory usage: 793.4+ KB\n"
     ]
    }
   ],
   "source": [
    "csv.info()"
   ]
  },
  {
   "cell_type": "code",
   "execution_count": 41,
   "id": "2f974f34",
   "metadata": {
    "execution": {
     "iopub.execute_input": "2023-10-30T11:40:23.122893Z",
     "iopub.status.busy": "2023-10-30T11:40:23.121255Z",
     "iopub.status.idle": "2023-10-30T11:40:23.144578Z",
     "shell.execute_reply": "2023-10-30T11:40:23.143200Z"
    },
    "papermill": {
     "duration": 0.057928,
     "end_time": "2023-10-30T11:40:23.148330",
     "exception": false,
     "start_time": "2023-10-30T11:40:23.090402",
     "status": "completed"
    },
    "tags": []
   },
   "outputs": [
    {
     "data": {
      "text/plain": [
       "S.No.                False\n",
       "Name                  True\n",
       "Location              True\n",
       "Year                  True\n",
       "Kilometers_Driven     True\n",
       "Fuel_Type             True\n",
       "Transmission          True\n",
       "Owner_Type            True\n",
       "Mileage               True\n",
       "Engine                True\n",
       "Power                 True\n",
       "Seats                False\n",
       "New_Price             True\n",
       "Price                 True\n",
       "dtype: bool"
      ]
     },
     "execution_count": 41,
     "metadata": {},
     "output_type": "execute_result"
    }
   ],
   "source": [
    "csv.all()"
   ]
  },
  {
   "cell_type": "code",
   "execution_count": 42,
   "id": "2ef34cb8",
   "metadata": {
    "execution": {
     "iopub.execute_input": "2023-10-30T11:40:23.212996Z",
     "iopub.status.busy": "2023-10-30T11:40:23.212585Z",
     "iopub.status.idle": "2023-10-30T11:40:23.232086Z",
     "shell.execute_reply": "2023-10-30T11:40:23.230828Z"
    },
    "papermill": {
     "duration": 0.057254,
     "end_time": "2023-10-30T11:40:23.234785",
     "exception": false,
     "start_time": "2023-10-30T11:40:23.177531",
     "status": "completed"
    },
    "tags": []
   },
   "outputs": [
    {
     "data": {
      "text/plain": [
       "S.No.                7253\n",
       "Name                 2041\n",
       "Location               11\n",
       "Year                   23\n",
       "Kilometers_Driven    3660\n",
       "Fuel_Type               5\n",
       "Transmission            2\n",
       "Owner_Type              4\n",
       "Mileage               450\n",
       "Engine                150\n",
       "Power                 386\n",
       "Seats                   9\n",
       "New_Price             625\n",
       "Price                1373\n",
       "dtype: int64"
      ]
     },
     "execution_count": 42,
     "metadata": {},
     "output_type": "execute_result"
    }
   ],
   "source": [
    "csv.nunique()"
   ]
  },
  {
   "cell_type": "code",
   "execution_count": 43,
   "id": "48b4428a",
   "metadata": {
    "execution": {
     "iopub.execute_input": "2023-10-30T11:40:23.299818Z",
     "iopub.status.busy": "2023-10-30T11:40:23.299437Z",
     "iopub.status.idle": "2023-10-30T11:40:23.319914Z",
     "shell.execute_reply": "2023-10-30T11:40:23.318580Z"
    },
    "papermill": {
     "duration": 0.056727,
     "end_time": "2023-10-30T11:40:23.323064",
     "exception": false,
     "start_time": "2023-10-30T11:40:23.266337",
     "status": "completed"
    },
    "tags": []
   },
   "outputs": [
    {
     "data": {
      "text/plain": [
       "S.No.                 0.000000\n",
       "Name                  0.000000\n",
       "Location              0.000000\n",
       "Year                  0.000000\n",
       "Kilometers_Driven     0.000000\n",
       "Fuel_Type             0.000000\n",
       "Transmission          0.000000\n",
       "Owner_Type            0.000000\n",
       "Mileage               0.027575\n",
       "Engine                0.634220\n",
       "Power                 0.634220\n",
       "Seats                 0.730732\n",
       "New_Price            86.129877\n",
       "Price                17.013650\n",
       "dtype: float64"
      ]
     },
     "execution_count": 43,
     "metadata": {},
     "output_type": "execute_result"
    }
   ],
   "source": [
    "(csv.isnull().sum()/len(csv))*100"
   ]
  },
  {
   "cell_type": "code",
   "execution_count": 44,
   "id": "719d78c0",
   "metadata": {
    "execution": {
     "iopub.execute_input": "2023-10-30T11:40:23.383490Z",
     "iopub.status.busy": "2023-10-30T11:40:23.383057Z",
     "iopub.status.idle": "2023-10-30T11:40:23.390110Z",
     "shell.execute_reply": "2023-10-30T11:40:23.389095Z"
    },
    "papermill": {
     "duration": 0.040385,
     "end_time": "2023-10-30T11:40:23.392603",
     "exception": false,
     "start_time": "2023-10-30T11:40:23.352218",
     "status": "completed"
    },
    "tags": []
   },
   "outputs": [],
   "source": [
    "data = csv.drop(['S.No.'], axis=1)"
   ]
  },
  {
   "cell_type": "code",
   "execution_count": 45,
   "id": "17be918c",
   "metadata": {
    "execution": {
     "iopub.execute_input": "2023-10-30T11:40:23.451339Z",
     "iopub.status.busy": "2023-10-30T11:40:23.450897Z",
     "iopub.status.idle": "2023-10-30T11:40:23.474028Z",
     "shell.execute_reply": "2023-10-30T11:40:23.472701Z"
    },
    "papermill": {
     "duration": 0.055817,
     "end_time": "2023-10-30T11:40:23.477380",
     "exception": false,
     "start_time": "2023-10-30T11:40:23.421563",
     "status": "completed"
    },
    "tags": []
   },
   "outputs": [
    {
     "name": "stdout",
     "output_type": "stream",
     "text": [
      "<class 'pandas.core.frame.DataFrame'>\n",
      "RangeIndex: 7253 entries, 0 to 7252\n",
      "Data columns (total 13 columns):\n",
      " #   Column             Non-Null Count  Dtype  \n",
      "---  ------             --------------  -----  \n",
      " 0   Name               7253 non-null   object \n",
      " 1   Location           7253 non-null   object \n",
      " 2   Year               7253 non-null   int64  \n",
      " 3   Kilometers_Driven  7253 non-null   int64  \n",
      " 4   Fuel_Type          7253 non-null   object \n",
      " 5   Transmission       7253 non-null   object \n",
      " 6   Owner_Type         7253 non-null   object \n",
      " 7   Mileage            7251 non-null   object \n",
      " 8   Engine             7207 non-null   object \n",
      " 9   Power              7207 non-null   object \n",
      " 10  Seats              7200 non-null   float64\n",
      " 11  New_Price          1006 non-null   object \n",
      " 12  Price              6019 non-null   float64\n",
      "dtypes: float64(2), int64(2), object(9)\n",
      "memory usage: 736.8+ KB\n"
     ]
    }
   ],
   "source": [
    "data.info()"
   ]
  },
  {
   "cell_type": "code",
   "execution_count": 46,
   "id": "6b1e83b2",
   "metadata": {
    "execution": {
     "iopub.execute_input": "2023-10-30T11:40:23.535846Z",
     "iopub.status.busy": "2023-10-30T11:40:23.535464Z",
     "iopub.status.idle": "2023-10-30T11:40:23.540663Z",
     "shell.execute_reply": "2023-10-30T11:40:23.539324Z"
    },
    "papermill": {
     "duration": 0.037226,
     "end_time": "2023-10-30T11:40:23.543173",
     "exception": false,
     "start_time": "2023-10-30T11:40:23.505947",
     "status": "completed"
    },
    "tags": []
   },
   "outputs": [],
   "source": [
    "from datetime import date"
   ]
  },
  {
   "cell_type": "code",
   "execution_count": 47,
   "id": "747c5fcd",
   "metadata": {
    "execution": {
     "iopub.execute_input": "2023-10-30T11:40:23.609772Z",
     "iopub.status.busy": "2023-10-30T11:40:23.609401Z",
     "iopub.status.idle": "2023-10-30T11:40:23.631129Z",
     "shell.execute_reply": "2023-10-30T11:40:23.629468Z"
    },
    "papermill": {
     "duration": 0.06009,
     "end_time": "2023-10-30T11:40:23.634420",
     "exception": false,
     "start_time": "2023-10-30T11:40:23.574330",
     "status": "completed"
    },
    "tags": []
   },
   "outputs": [
    {
     "name": "stdout",
     "output_type": "stream",
     "text": [
      "<class 'pandas.core.frame.DataFrame'>\n",
      "RangeIndex: 7253 entries, 0 to 7252\n",
      "Data columns (total 14 columns):\n",
      " #   Column             Non-Null Count  Dtype  \n",
      "---  ------             --------------  -----  \n",
      " 0   Name               7253 non-null   object \n",
      " 1   Location           7253 non-null   object \n",
      " 2   Year               7253 non-null   int64  \n",
      " 3   Kilometers_Driven  7253 non-null   int64  \n",
      " 4   Fuel_Type          7253 non-null   object \n",
      " 5   Transmission       7253 non-null   object \n",
      " 6   Owner_Type         7253 non-null   object \n",
      " 7   Mileage            7251 non-null   object \n",
      " 8   Engine             7207 non-null   object \n",
      " 9   Power              7207 non-null   object \n",
      " 10  Seats              7200 non-null   float64\n",
      " 11  New_Price          1006 non-null   object \n",
      " 12  Price              6019 non-null   float64\n",
      " 13  Car Age            7253 non-null   int64  \n",
      "dtypes: float64(2), int64(3), object(9)\n",
      "memory usage: 793.4+ KB\n"
     ]
    }
   ],
   "source": [
    "date.today().year\n",
    "data['Car Age'] = date.today().year - data['Year']\n",
    "data.info()"
   ]
  },
  {
   "cell_type": "code",
   "execution_count": 48,
   "id": "96d2862a",
   "metadata": {
    "execution": {
     "iopub.execute_input": "2023-10-30T11:40:23.697106Z",
     "iopub.status.busy": "2023-10-30T11:40:23.696294Z",
     "iopub.status.idle": "2023-10-30T11:40:23.733837Z",
     "shell.execute_reply": "2023-10-30T11:40:23.732602Z"
    },
    "papermill": {
     "duration": 0.071477,
     "end_time": "2023-10-30T11:40:23.736664",
     "exception": false,
     "start_time": "2023-10-30T11:40:23.665187",
     "status": "completed"
    },
    "tags": []
   },
   "outputs": [
    {
     "data": {
      "text/html": [
       "<div>\n",
       "<style scoped>\n",
       "    .dataframe tbody tr th:only-of-type {\n",
       "        vertical-align: middle;\n",
       "    }\n",
       "\n",
       "    .dataframe tbody tr th {\n",
       "        vertical-align: top;\n",
       "    }\n",
       "\n",
       "    .dataframe thead th {\n",
       "        text-align: right;\n",
       "    }\n",
       "</style>\n",
       "<table border=\"1\" class=\"dataframe\">\n",
       "  <thead>\n",
       "    <tr style=\"text-align: right;\">\n",
       "      <th></th>\n",
       "      <th>Name</th>\n",
       "      <th>Location</th>\n",
       "      <th>Year</th>\n",
       "      <th>Kilometers_Driven</th>\n",
       "      <th>Fuel_Type</th>\n",
       "      <th>Transmission</th>\n",
       "      <th>Owner_Type</th>\n",
       "      <th>Mileage</th>\n",
       "      <th>Engine</th>\n",
       "      <th>Power</th>\n",
       "      <th>Seats</th>\n",
       "      <th>New_Price</th>\n",
       "      <th>Price</th>\n",
       "      <th>Car Age</th>\n",
       "    </tr>\n",
       "  </thead>\n",
       "  <tbody>\n",
       "    <tr>\n",
       "      <th>0</th>\n",
       "      <td>Maruti Wagon R LXI CNG</td>\n",
       "      <td>Mumbai</td>\n",
       "      <td>2010</td>\n",
       "      <td>72000</td>\n",
       "      <td>CNG</td>\n",
       "      <td>Manual</td>\n",
       "      <td>First</td>\n",
       "      <td>26.6 km/kg</td>\n",
       "      <td>998 CC</td>\n",
       "      <td>58.16 bhp</td>\n",
       "      <td>5.0</td>\n",
       "      <td>NaN</td>\n",
       "      <td>1.75</td>\n",
       "      <td>13</td>\n",
       "    </tr>\n",
       "    <tr>\n",
       "      <th>1</th>\n",
       "      <td>Hyundai Creta 1.6 CRDi SX Option</td>\n",
       "      <td>Pune</td>\n",
       "      <td>2015</td>\n",
       "      <td>41000</td>\n",
       "      <td>Diesel</td>\n",
       "      <td>Manual</td>\n",
       "      <td>First</td>\n",
       "      <td>19.67 kmpl</td>\n",
       "      <td>1582 CC</td>\n",
       "      <td>126.2 bhp</td>\n",
       "      <td>5.0</td>\n",
       "      <td>NaN</td>\n",
       "      <td>12.50</td>\n",
       "      <td>8</td>\n",
       "    </tr>\n",
       "    <tr>\n",
       "      <th>2</th>\n",
       "      <td>Honda Jazz V</td>\n",
       "      <td>Chennai</td>\n",
       "      <td>2011</td>\n",
       "      <td>46000</td>\n",
       "      <td>Petrol</td>\n",
       "      <td>Manual</td>\n",
       "      <td>First</td>\n",
       "      <td>18.2 kmpl</td>\n",
       "      <td>1199 CC</td>\n",
       "      <td>88.7 bhp</td>\n",
       "      <td>5.0</td>\n",
       "      <td>8.61 Lakh</td>\n",
       "      <td>4.50</td>\n",
       "      <td>12</td>\n",
       "    </tr>\n",
       "    <tr>\n",
       "      <th>3</th>\n",
       "      <td>Maruti Ertiga VDI</td>\n",
       "      <td>Chennai</td>\n",
       "      <td>2012</td>\n",
       "      <td>87000</td>\n",
       "      <td>Diesel</td>\n",
       "      <td>Manual</td>\n",
       "      <td>First</td>\n",
       "      <td>20.77 kmpl</td>\n",
       "      <td>1248 CC</td>\n",
       "      <td>88.76 bhp</td>\n",
       "      <td>7.0</td>\n",
       "      <td>NaN</td>\n",
       "      <td>6.00</td>\n",
       "      <td>11</td>\n",
       "    </tr>\n",
       "    <tr>\n",
       "      <th>4</th>\n",
       "      <td>Audi A4 New 2.0 TDI Multitronic</td>\n",
       "      <td>Coimbatore</td>\n",
       "      <td>2013</td>\n",
       "      <td>40670</td>\n",
       "      <td>Diesel</td>\n",
       "      <td>Automatic</td>\n",
       "      <td>Second</td>\n",
       "      <td>15.2 kmpl</td>\n",
       "      <td>1968 CC</td>\n",
       "      <td>140.8 bhp</td>\n",
       "      <td>5.0</td>\n",
       "      <td>NaN</td>\n",
       "      <td>17.74</td>\n",
       "      <td>10</td>\n",
       "    </tr>\n",
       "    <tr>\n",
       "      <th>...</th>\n",
       "      <td>...</td>\n",
       "      <td>...</td>\n",
       "      <td>...</td>\n",
       "      <td>...</td>\n",
       "      <td>...</td>\n",
       "      <td>...</td>\n",
       "      <td>...</td>\n",
       "      <td>...</td>\n",
       "      <td>...</td>\n",
       "      <td>...</td>\n",
       "      <td>...</td>\n",
       "      <td>...</td>\n",
       "      <td>...</td>\n",
       "      <td>...</td>\n",
       "    </tr>\n",
       "    <tr>\n",
       "      <th>7248</th>\n",
       "      <td>Volkswagen Vento Diesel Trendline</td>\n",
       "      <td>Hyderabad</td>\n",
       "      <td>2011</td>\n",
       "      <td>89411</td>\n",
       "      <td>Diesel</td>\n",
       "      <td>Manual</td>\n",
       "      <td>First</td>\n",
       "      <td>20.54 kmpl</td>\n",
       "      <td>1598 CC</td>\n",
       "      <td>103.6 bhp</td>\n",
       "      <td>5.0</td>\n",
       "      <td>NaN</td>\n",
       "      <td>NaN</td>\n",
       "      <td>12</td>\n",
       "    </tr>\n",
       "    <tr>\n",
       "      <th>7249</th>\n",
       "      <td>Volkswagen Polo GT TSI</td>\n",
       "      <td>Mumbai</td>\n",
       "      <td>2015</td>\n",
       "      <td>59000</td>\n",
       "      <td>Petrol</td>\n",
       "      <td>Automatic</td>\n",
       "      <td>First</td>\n",
       "      <td>17.21 kmpl</td>\n",
       "      <td>1197 CC</td>\n",
       "      <td>103.6 bhp</td>\n",
       "      <td>5.0</td>\n",
       "      <td>NaN</td>\n",
       "      <td>NaN</td>\n",
       "      <td>8</td>\n",
       "    </tr>\n",
       "    <tr>\n",
       "      <th>7250</th>\n",
       "      <td>Nissan Micra Diesel XV</td>\n",
       "      <td>Kolkata</td>\n",
       "      <td>2012</td>\n",
       "      <td>28000</td>\n",
       "      <td>Diesel</td>\n",
       "      <td>Manual</td>\n",
       "      <td>First</td>\n",
       "      <td>23.08 kmpl</td>\n",
       "      <td>1461 CC</td>\n",
       "      <td>63.1 bhp</td>\n",
       "      <td>5.0</td>\n",
       "      <td>NaN</td>\n",
       "      <td>NaN</td>\n",
       "      <td>11</td>\n",
       "    </tr>\n",
       "    <tr>\n",
       "      <th>7251</th>\n",
       "      <td>Volkswagen Polo GT TSI</td>\n",
       "      <td>Pune</td>\n",
       "      <td>2013</td>\n",
       "      <td>52262</td>\n",
       "      <td>Petrol</td>\n",
       "      <td>Automatic</td>\n",
       "      <td>Third</td>\n",
       "      <td>17.2 kmpl</td>\n",
       "      <td>1197 CC</td>\n",
       "      <td>103.6 bhp</td>\n",
       "      <td>5.0</td>\n",
       "      <td>NaN</td>\n",
       "      <td>NaN</td>\n",
       "      <td>10</td>\n",
       "    </tr>\n",
       "    <tr>\n",
       "      <th>7252</th>\n",
       "      <td>Mercedes-Benz E-Class 2009-2013 E 220 CDI Avan...</td>\n",
       "      <td>Kochi</td>\n",
       "      <td>2014</td>\n",
       "      <td>72443</td>\n",
       "      <td>Diesel</td>\n",
       "      <td>Automatic</td>\n",
       "      <td>First</td>\n",
       "      <td>10.0 kmpl</td>\n",
       "      <td>2148 CC</td>\n",
       "      <td>170 bhp</td>\n",
       "      <td>5.0</td>\n",
       "      <td>NaN</td>\n",
       "      <td>NaN</td>\n",
       "      <td>9</td>\n",
       "    </tr>\n",
       "  </tbody>\n",
       "</table>\n",
       "<p>7253 rows × 14 columns</p>\n",
       "</div>"
      ],
      "text/plain": [
       "                                                   Name    Location  Year  \\\n",
       "0                                Maruti Wagon R LXI CNG      Mumbai  2010   \n",
       "1                      Hyundai Creta 1.6 CRDi SX Option        Pune  2015   \n",
       "2                                          Honda Jazz V     Chennai  2011   \n",
       "3                                     Maruti Ertiga VDI     Chennai  2012   \n",
       "4                       Audi A4 New 2.0 TDI Multitronic  Coimbatore  2013   \n",
       "...                                                 ...         ...   ...   \n",
       "7248                  Volkswagen Vento Diesel Trendline   Hyderabad  2011   \n",
       "7249                             Volkswagen Polo GT TSI      Mumbai  2015   \n",
       "7250                             Nissan Micra Diesel XV     Kolkata  2012   \n",
       "7251                             Volkswagen Polo GT TSI        Pune  2013   \n",
       "7252  Mercedes-Benz E-Class 2009-2013 E 220 CDI Avan...       Kochi  2014   \n",
       "\n",
       "      Kilometers_Driven Fuel_Type Transmission Owner_Type     Mileage  \\\n",
       "0                 72000       CNG       Manual      First  26.6 km/kg   \n",
       "1                 41000    Diesel       Manual      First  19.67 kmpl   \n",
       "2                 46000    Petrol       Manual      First   18.2 kmpl   \n",
       "3                 87000    Diesel       Manual      First  20.77 kmpl   \n",
       "4                 40670    Diesel    Automatic     Second   15.2 kmpl   \n",
       "...                 ...       ...          ...        ...         ...   \n",
       "7248              89411    Diesel       Manual      First  20.54 kmpl   \n",
       "7249              59000    Petrol    Automatic      First  17.21 kmpl   \n",
       "7250              28000    Diesel       Manual      First  23.08 kmpl   \n",
       "7251              52262    Petrol    Automatic      Third   17.2 kmpl   \n",
       "7252              72443    Diesel    Automatic      First   10.0 kmpl   \n",
       "\n",
       "       Engine      Power  Seats  New_Price  Price  Car Age  \n",
       "0      998 CC  58.16 bhp    5.0        NaN   1.75       13  \n",
       "1     1582 CC  126.2 bhp    5.0        NaN  12.50        8  \n",
       "2     1199 CC   88.7 bhp    5.0  8.61 Lakh   4.50       12  \n",
       "3     1248 CC  88.76 bhp    7.0        NaN   6.00       11  \n",
       "4     1968 CC  140.8 bhp    5.0        NaN  17.74       10  \n",
       "...       ...        ...    ...        ...    ...      ...  \n",
       "7248  1598 CC  103.6 bhp    5.0        NaN    NaN       12  \n",
       "7249  1197 CC  103.6 bhp    5.0        NaN    NaN        8  \n",
       "7250  1461 CC   63.1 bhp    5.0        NaN    NaN       11  \n",
       "7251  1197 CC  103.6 bhp    5.0        NaN    NaN       10  \n",
       "7252  2148 CC    170 bhp    5.0        NaN    NaN        9  \n",
       "\n",
       "[7253 rows x 14 columns]"
      ]
     },
     "execution_count": 48,
     "metadata": {},
     "output_type": "execute_result"
    }
   ],
   "source": [
    "data.nunique()\n",
    "data"
   ]
  },
  {
   "cell_type": "code",
   "execution_count": 49,
   "id": "72c72eba",
   "metadata": {
    "execution": {
     "iopub.execute_input": "2023-10-30T11:40:23.798709Z",
     "iopub.status.busy": "2023-10-30T11:40:23.798324Z",
     "iopub.status.idle": "2023-10-30T11:40:23.809653Z",
     "shell.execute_reply": "2023-10-30T11:40:23.808291Z"
    },
    "papermill": {
     "duration": 0.044484,
     "end_time": "2023-10-30T11:40:23.811955",
     "exception": false,
     "start_time": "2023-10-30T11:40:23.767471",
     "status": "completed"
    },
    "tags": []
   },
   "outputs": [
    {
     "data": {
      "text/html": [
       "<div>\n",
       "<style scoped>\n",
       "    .dataframe tbody tr th:only-of-type {\n",
       "        vertical-align: middle;\n",
       "    }\n",
       "\n",
       "    .dataframe tbody tr th {\n",
       "        vertical-align: top;\n",
       "    }\n",
       "\n",
       "    .dataframe thead th {\n",
       "        text-align: right;\n",
       "    }\n",
       "</style>\n",
       "<table border=\"1\" class=\"dataframe\">\n",
       "  <thead>\n",
       "    <tr style=\"text-align: right;\">\n",
       "      <th></th>\n",
       "      <th>Year</th>\n",
       "    </tr>\n",
       "  </thead>\n",
       "  <tbody>\n",
       "    <tr>\n",
       "      <th>0</th>\n",
       "      <td>2010</td>\n",
       "    </tr>\n",
       "    <tr>\n",
       "      <th>1</th>\n",
       "      <td>2015</td>\n",
       "    </tr>\n",
       "    <tr>\n",
       "      <th>2</th>\n",
       "      <td>2011</td>\n",
       "    </tr>\n",
       "    <tr>\n",
       "      <th>3</th>\n",
       "      <td>2012</td>\n",
       "    </tr>\n",
       "  </tbody>\n",
       "</table>\n",
       "</div>"
      ],
      "text/plain": [
       "   Year\n",
       "0  2010\n",
       "1  2015\n",
       "2  2011\n",
       "3  2012"
      ]
     },
     "execution_count": 49,
     "metadata": {},
     "output_type": "execute_result"
    }
   ],
   "source": [
    "data.head(4)[['Year']]"
   ]
  },
  {
   "cell_type": "code",
   "execution_count": 50,
   "id": "c8abd279",
   "metadata": {
    "execution": {
     "iopub.execute_input": "2023-10-30T11:40:23.873337Z",
     "iopub.status.busy": "2023-10-30T11:40:23.872904Z",
     "iopub.status.idle": "2023-10-30T11:40:23.918906Z",
     "shell.execute_reply": "2023-10-30T11:40:23.917780Z"
    },
    "papermill": {
     "duration": 0.080367,
     "end_time": "2023-10-30T11:40:23.921803",
     "exception": false,
     "start_time": "2023-10-30T11:40:23.841436",
     "status": "completed"
    },
    "tags": []
   },
   "outputs": [
    {
     "data": {
      "text/html": [
       "<div>\n",
       "<style scoped>\n",
       "    .dataframe tbody tr th:only-of-type {\n",
       "        vertical-align: middle;\n",
       "    }\n",
       "\n",
       "    .dataframe tbody tr th {\n",
       "        vertical-align: top;\n",
       "    }\n",
       "\n",
       "    .dataframe thead th {\n",
       "        text-align: right;\n",
       "    }\n",
       "</style>\n",
       "<table border=\"1\" class=\"dataframe\">\n",
       "  <thead>\n",
       "    <tr style=\"text-align: right;\">\n",
       "      <th></th>\n",
       "      <th>Name</th>\n",
       "      <th>Location</th>\n",
       "      <th>Year</th>\n",
       "      <th>Kilometers_Driven</th>\n",
       "      <th>Fuel_Type</th>\n",
       "      <th>Transmission</th>\n",
       "      <th>Owner_Type</th>\n",
       "      <th>Mileage</th>\n",
       "      <th>Engine</th>\n",
       "      <th>Power</th>\n",
       "      <th>Seats</th>\n",
       "      <th>New_Price</th>\n",
       "      <th>Price</th>\n",
       "      <th>Car Age</th>\n",
       "      <th>Brand</th>\n",
       "    </tr>\n",
       "  </thead>\n",
       "  <tbody>\n",
       "    <tr>\n",
       "      <th>7248</th>\n",
       "      <td>Volkswagen Vento Diesel Trendline</td>\n",
       "      <td>Hyderabad</td>\n",
       "      <td>2011</td>\n",
       "      <td>89411</td>\n",
       "      <td>Diesel</td>\n",
       "      <td>Manual</td>\n",
       "      <td>First</td>\n",
       "      <td>20.54 kmpl</td>\n",
       "      <td>1598 CC</td>\n",
       "      <td>103.6 bhp</td>\n",
       "      <td>5.0</td>\n",
       "      <td>NaN</td>\n",
       "      <td>NaN</td>\n",
       "      <td>12</td>\n",
       "      <td>Volkswagen</td>\n",
       "    </tr>\n",
       "    <tr>\n",
       "      <th>7249</th>\n",
       "      <td>Volkswagen Polo GT TSI</td>\n",
       "      <td>Mumbai</td>\n",
       "      <td>2015</td>\n",
       "      <td>59000</td>\n",
       "      <td>Petrol</td>\n",
       "      <td>Automatic</td>\n",
       "      <td>First</td>\n",
       "      <td>17.21 kmpl</td>\n",
       "      <td>1197 CC</td>\n",
       "      <td>103.6 bhp</td>\n",
       "      <td>5.0</td>\n",
       "      <td>NaN</td>\n",
       "      <td>NaN</td>\n",
       "      <td>8</td>\n",
       "      <td>Volkswagen</td>\n",
       "    </tr>\n",
       "    <tr>\n",
       "      <th>7250</th>\n",
       "      <td>Nissan Micra Diesel XV</td>\n",
       "      <td>Kolkata</td>\n",
       "      <td>2012</td>\n",
       "      <td>28000</td>\n",
       "      <td>Diesel</td>\n",
       "      <td>Manual</td>\n",
       "      <td>First</td>\n",
       "      <td>23.08 kmpl</td>\n",
       "      <td>1461 CC</td>\n",
       "      <td>63.1 bhp</td>\n",
       "      <td>5.0</td>\n",
       "      <td>NaN</td>\n",
       "      <td>NaN</td>\n",
       "      <td>11</td>\n",
       "      <td>Nissan</td>\n",
       "    </tr>\n",
       "    <tr>\n",
       "      <th>7251</th>\n",
       "      <td>Volkswagen Polo GT TSI</td>\n",
       "      <td>Pune</td>\n",
       "      <td>2013</td>\n",
       "      <td>52262</td>\n",
       "      <td>Petrol</td>\n",
       "      <td>Automatic</td>\n",
       "      <td>Third</td>\n",
       "      <td>17.2 kmpl</td>\n",
       "      <td>1197 CC</td>\n",
       "      <td>103.6 bhp</td>\n",
       "      <td>5.0</td>\n",
       "      <td>NaN</td>\n",
       "      <td>NaN</td>\n",
       "      <td>10</td>\n",
       "      <td>Volkswagen</td>\n",
       "    </tr>\n",
       "    <tr>\n",
       "      <th>7252</th>\n",
       "      <td>Mercedes-Benz E-Class 2009-2013 E 220 CDI Avan...</td>\n",
       "      <td>Kochi</td>\n",
       "      <td>2014</td>\n",
       "      <td>72443</td>\n",
       "      <td>Diesel</td>\n",
       "      <td>Automatic</td>\n",
       "      <td>First</td>\n",
       "      <td>10.0 kmpl</td>\n",
       "      <td>2148 CC</td>\n",
       "      <td>170 bhp</td>\n",
       "      <td>5.0</td>\n",
       "      <td>NaN</td>\n",
       "      <td>NaN</td>\n",
       "      <td>9</td>\n",
       "      <td>Mercedes-Benz</td>\n",
       "    </tr>\n",
       "  </tbody>\n",
       "</table>\n",
       "</div>"
      ],
      "text/plain": [
       "                                                   Name   Location  Year  \\\n",
       "7248                  Volkswagen Vento Diesel Trendline  Hyderabad  2011   \n",
       "7249                             Volkswagen Polo GT TSI     Mumbai  2015   \n",
       "7250                             Nissan Micra Diesel XV    Kolkata  2012   \n",
       "7251                             Volkswagen Polo GT TSI       Pune  2013   \n",
       "7252  Mercedes-Benz E-Class 2009-2013 E 220 CDI Avan...      Kochi  2014   \n",
       "\n",
       "      Kilometers_Driven Fuel_Type Transmission Owner_Type     Mileage  \\\n",
       "7248              89411    Diesel       Manual      First  20.54 kmpl   \n",
       "7249              59000    Petrol    Automatic      First  17.21 kmpl   \n",
       "7250              28000    Diesel       Manual      First  23.08 kmpl   \n",
       "7251              52262    Petrol    Automatic      Third   17.2 kmpl   \n",
       "7252              72443    Diesel    Automatic      First   10.0 kmpl   \n",
       "\n",
       "       Engine      Power  Seats New_Price  Price  Car Age          Brand  \n",
       "7248  1598 CC  103.6 bhp    5.0       NaN    NaN       12     Volkswagen  \n",
       "7249  1197 CC  103.6 bhp    5.0       NaN    NaN        8     Volkswagen  \n",
       "7250  1461 CC   63.1 bhp    5.0       NaN    NaN       11         Nissan  \n",
       "7251  1197 CC  103.6 bhp    5.0       NaN    NaN       10     Volkswagen  \n",
       "7252  2148 CC    170 bhp    5.0       NaN    NaN        9  Mercedes-Benz  "
      ]
     },
     "execution_count": 50,
     "metadata": {},
     "output_type": "execute_result"
    }
   ],
   "source": [
    "data['Brand'] = data.Name.str.split().str.get(0)\n",
    "data.tail()"
   ]
  },
  {
   "cell_type": "code",
   "execution_count": 51,
   "id": "24815446",
   "metadata": {
    "execution": {
     "iopub.execute_input": "2023-10-30T11:40:23.986978Z",
     "iopub.status.busy": "2023-10-30T11:40:23.986183Z",
     "iopub.status.idle": "2023-10-30T11:40:24.046588Z",
     "shell.execute_reply": "2023-10-30T11:40:24.045482Z"
    },
    "papermill": {
     "duration": 0.096284,
     "end_time": "2023-10-30T11:40:24.049668",
     "exception": false,
     "start_time": "2023-10-30T11:40:23.953384",
     "status": "completed"
    },
    "tags": []
   },
   "outputs": [
    {
     "data": {
      "text/html": [
       "<div>\n",
       "<style scoped>\n",
       "    .dataframe tbody tr th:only-of-type {\n",
       "        vertical-align: middle;\n",
       "    }\n",
       "\n",
       "    .dataframe tbody tr th {\n",
       "        vertical-align: top;\n",
       "    }\n",
       "\n",
       "    .dataframe thead th {\n",
       "        text-align: right;\n",
       "    }\n",
       "</style>\n",
       "<table border=\"1\" class=\"dataframe\">\n",
       "  <thead>\n",
       "    <tr style=\"text-align: right;\">\n",
       "      <th></th>\n",
       "      <th>Name</th>\n",
       "      <th>Location</th>\n",
       "      <th>Year</th>\n",
       "      <th>Kilometers_Driven</th>\n",
       "      <th>Fuel_Type</th>\n",
       "      <th>Transmission</th>\n",
       "      <th>Owner_Type</th>\n",
       "      <th>Mileage</th>\n",
       "      <th>Engine</th>\n",
       "      <th>Power</th>\n",
       "      <th>Seats</th>\n",
       "      <th>New_Price</th>\n",
       "      <th>Price</th>\n",
       "      <th>Car Age</th>\n",
       "      <th>Brand</th>\n",
       "      <th>Model</th>\n",
       "    </tr>\n",
       "  </thead>\n",
       "  <tbody>\n",
       "    <tr>\n",
       "      <th>7248</th>\n",
       "      <td>Volkswagen Vento Diesel Trendline</td>\n",
       "      <td>Hyderabad</td>\n",
       "      <td>2011</td>\n",
       "      <td>89411</td>\n",
       "      <td>Diesel</td>\n",
       "      <td>Manual</td>\n",
       "      <td>First</td>\n",
       "      <td>20.54 kmpl</td>\n",
       "      <td>1598 CC</td>\n",
       "      <td>103.6 bhp</td>\n",
       "      <td>5.0</td>\n",
       "      <td>NaN</td>\n",
       "      <td>NaN</td>\n",
       "      <td>12</td>\n",
       "      <td>Volkswagen</td>\n",
       "      <td>Vento Diesel</td>\n",
       "    </tr>\n",
       "    <tr>\n",
       "      <th>7249</th>\n",
       "      <td>Volkswagen Polo GT TSI</td>\n",
       "      <td>Mumbai</td>\n",
       "      <td>2015</td>\n",
       "      <td>59000</td>\n",
       "      <td>Petrol</td>\n",
       "      <td>Automatic</td>\n",
       "      <td>First</td>\n",
       "      <td>17.21 kmpl</td>\n",
       "      <td>1197 CC</td>\n",
       "      <td>103.6 bhp</td>\n",
       "      <td>5.0</td>\n",
       "      <td>NaN</td>\n",
       "      <td>NaN</td>\n",
       "      <td>8</td>\n",
       "      <td>Volkswagen</td>\n",
       "      <td>Polo GT</td>\n",
       "    </tr>\n",
       "    <tr>\n",
       "      <th>7250</th>\n",
       "      <td>Nissan Micra Diesel XV</td>\n",
       "      <td>Kolkata</td>\n",
       "      <td>2012</td>\n",
       "      <td>28000</td>\n",
       "      <td>Diesel</td>\n",
       "      <td>Manual</td>\n",
       "      <td>First</td>\n",
       "      <td>23.08 kmpl</td>\n",
       "      <td>1461 CC</td>\n",
       "      <td>63.1 bhp</td>\n",
       "      <td>5.0</td>\n",
       "      <td>NaN</td>\n",
       "      <td>NaN</td>\n",
       "      <td>11</td>\n",
       "      <td>Nissan</td>\n",
       "      <td>Micra Diesel</td>\n",
       "    </tr>\n",
       "    <tr>\n",
       "      <th>7251</th>\n",
       "      <td>Volkswagen Polo GT TSI</td>\n",
       "      <td>Pune</td>\n",
       "      <td>2013</td>\n",
       "      <td>52262</td>\n",
       "      <td>Petrol</td>\n",
       "      <td>Automatic</td>\n",
       "      <td>Third</td>\n",
       "      <td>17.2 kmpl</td>\n",
       "      <td>1197 CC</td>\n",
       "      <td>103.6 bhp</td>\n",
       "      <td>5.0</td>\n",
       "      <td>NaN</td>\n",
       "      <td>NaN</td>\n",
       "      <td>10</td>\n",
       "      <td>Volkswagen</td>\n",
       "      <td>Polo GT</td>\n",
       "    </tr>\n",
       "    <tr>\n",
       "      <th>7252</th>\n",
       "      <td>Mercedes-Benz E-Class 2009-2013 E 220 CDI Avan...</td>\n",
       "      <td>Kochi</td>\n",
       "      <td>2014</td>\n",
       "      <td>72443</td>\n",
       "      <td>Diesel</td>\n",
       "      <td>Automatic</td>\n",
       "      <td>First</td>\n",
       "      <td>10.0 kmpl</td>\n",
       "      <td>2148 CC</td>\n",
       "      <td>170 bhp</td>\n",
       "      <td>5.0</td>\n",
       "      <td>NaN</td>\n",
       "      <td>NaN</td>\n",
       "      <td>9</td>\n",
       "      <td>Mercedes-Benz</td>\n",
       "      <td>E-Class 2009-2013</td>\n",
       "    </tr>\n",
       "  </tbody>\n",
       "</table>\n",
       "</div>"
      ],
      "text/plain": [
       "                                                   Name   Location  Year  \\\n",
       "7248                  Volkswagen Vento Diesel Trendline  Hyderabad  2011   \n",
       "7249                             Volkswagen Polo GT TSI     Mumbai  2015   \n",
       "7250                             Nissan Micra Diesel XV    Kolkata  2012   \n",
       "7251                             Volkswagen Polo GT TSI       Pune  2013   \n",
       "7252  Mercedes-Benz E-Class 2009-2013 E 220 CDI Avan...      Kochi  2014   \n",
       "\n",
       "      Kilometers_Driven Fuel_Type Transmission Owner_Type     Mileage  \\\n",
       "7248              89411    Diesel       Manual      First  20.54 kmpl   \n",
       "7249              59000    Petrol    Automatic      First  17.21 kmpl   \n",
       "7250              28000    Diesel       Manual      First  23.08 kmpl   \n",
       "7251              52262    Petrol    Automatic      Third   17.2 kmpl   \n",
       "7252              72443    Diesel    Automatic      First   10.0 kmpl   \n",
       "\n",
       "       Engine      Power  Seats New_Price  Price  Car Age          Brand  \\\n",
       "7248  1598 CC  103.6 bhp    5.0       NaN    NaN       12     Volkswagen   \n",
       "7249  1197 CC  103.6 bhp    5.0       NaN    NaN        8     Volkswagen   \n",
       "7250  1461 CC   63.1 bhp    5.0       NaN    NaN       11         Nissan   \n",
       "7251  1197 CC  103.6 bhp    5.0       NaN    NaN       10     Volkswagen   \n",
       "7252  2148 CC    170 bhp    5.0       NaN    NaN        9  Mercedes-Benz   \n",
       "\n",
       "                  Model  \n",
       "7248       Vento Diesel  \n",
       "7249            Polo GT  \n",
       "7250       Micra Diesel  \n",
       "7251            Polo GT  \n",
       "7252  E-Class 2009-2013  "
      ]
     },
     "execution_count": 51,
     "metadata": {},
     "output_type": "execute_result"
    }
   ],
   "source": [
    "data['Model'] = data.Name.str.split().str.get(1) + \" \" + data.Name.str.split().str.get(2)\n",
    "data.tail()"
   ]
  },
  {
   "cell_type": "code",
   "execution_count": 52,
   "id": "9f8447b6",
   "metadata": {
    "execution": {
     "iopub.execute_input": "2023-10-30T11:40:24.115946Z",
     "iopub.status.busy": "2023-10-30T11:40:24.115565Z",
     "iopub.status.idle": "2023-10-30T11:40:24.129283Z",
     "shell.execute_reply": "2023-10-30T11:40:24.128111Z"
    },
    "papermill": {
     "duration": 0.049913,
     "end_time": "2023-10-30T11:40:24.131895",
     "exception": false,
     "start_time": "2023-10-30T11:40:24.081982",
     "status": "completed"
    },
    "tags": []
   },
   "outputs": [
    {
     "data": {
      "text/html": [
       "<div>\n",
       "<style scoped>\n",
       "    .dataframe tbody tr th:only-of-type {\n",
       "        vertical-align: middle;\n",
       "    }\n",
       "\n",
       "    .dataframe tbody tr th {\n",
       "        vertical-align: top;\n",
       "    }\n",
       "\n",
       "    .dataframe thead th {\n",
       "        text-align: right;\n",
       "    }\n",
       "</style>\n",
       "<table border=\"1\" class=\"dataframe\">\n",
       "  <thead>\n",
       "    <tr style=\"text-align: right;\">\n",
       "      <th></th>\n",
       "      <th>Name</th>\n",
       "      <th>Brand</th>\n",
       "      <th>Model</th>\n",
       "    </tr>\n",
       "  </thead>\n",
       "  <tbody>\n",
       "    <tr>\n",
       "      <th>0</th>\n",
       "      <td>Maruti Wagon R LXI CNG</td>\n",
       "      <td>Maruti</td>\n",
       "      <td>Wagon R</td>\n",
       "    </tr>\n",
       "    <tr>\n",
       "      <th>1</th>\n",
       "      <td>Hyundai Creta 1.6 CRDi SX Option</td>\n",
       "      <td>Hyundai</td>\n",
       "      <td>Creta 1.6</td>\n",
       "    </tr>\n",
       "    <tr>\n",
       "      <th>2</th>\n",
       "      <td>Honda Jazz V</td>\n",
       "      <td>Honda</td>\n",
       "      <td>Jazz V</td>\n",
       "    </tr>\n",
       "    <tr>\n",
       "      <th>3</th>\n",
       "      <td>Maruti Ertiga VDI</td>\n",
       "      <td>Maruti</td>\n",
       "      <td>Ertiga VDI</td>\n",
       "    </tr>\n",
       "    <tr>\n",
       "      <th>4</th>\n",
       "      <td>Audi A4 New 2.0 TDI Multitronic</td>\n",
       "      <td>Audi</td>\n",
       "      <td>A4 New</td>\n",
       "    </tr>\n",
       "  </tbody>\n",
       "</table>\n",
       "</div>"
      ],
      "text/plain": [
       "                               Name    Brand       Model\n",
       "0            Maruti Wagon R LXI CNG   Maruti     Wagon R\n",
       "1  Hyundai Creta 1.6 CRDi SX Option  Hyundai   Creta 1.6\n",
       "2                      Honda Jazz V    Honda      Jazz V\n",
       "3                 Maruti Ertiga VDI   Maruti  Ertiga VDI\n",
       "4   Audi A4 New 2.0 TDI Multitronic     Audi      A4 New"
      ]
     },
     "execution_count": 52,
     "metadata": {},
     "output_type": "execute_result"
    }
   ],
   "source": [
    "data.head()[['Name', 'Brand', 'Model']]"
   ]
  },
  {
   "cell_type": "code",
   "execution_count": 53,
   "id": "0c84e137",
   "metadata": {
    "execution": {
     "iopub.execute_input": "2023-10-30T11:40:24.195066Z",
     "iopub.status.busy": "2023-10-30T11:40:24.193993Z",
     "iopub.status.idle": "2023-10-30T11:40:24.203127Z",
     "shell.execute_reply": "2023-10-30T11:40:24.201995Z"
    },
    "papermill": {
     "duration": 0.043183,
     "end_time": "2023-10-30T11:40:24.205503",
     "exception": false,
     "start_time": "2023-10-30T11:40:24.162320",
     "status": "completed"
    },
    "tags": []
   },
   "outputs": [
    {
     "data": {
      "text/plain": [
       "array(['Maruti', 'Hyundai', 'Honda', 'Audi', 'Nissan', 'Toyota',\n",
       "       'Volkswagen', 'Tata', 'Land', 'Mitsubishi', 'Renault',\n",
       "       'Mercedes-Benz', 'BMW', 'Mahindra', 'Ford', 'Porsche', 'Datsun',\n",
       "       'Jaguar', 'Volvo', 'Chevrolet', 'Skoda', 'Mini', 'Fiat', 'Jeep',\n",
       "       'Smart', 'Ambassador', 'Isuzu', 'ISUZU', 'Force', 'Bentley',\n",
       "       'Lamborghini', 'Hindustan', 'OpelCorsa'], dtype=object)"
      ]
     },
     "execution_count": 53,
     "metadata": {},
     "output_type": "execute_result"
    }
   ],
   "source": [
    "data.Brand.unique()"
   ]
  },
  {
   "cell_type": "code",
   "execution_count": 54,
   "id": "2378c254",
   "metadata": {
    "execution": {
     "iopub.execute_input": "2023-10-30T11:40:24.268966Z",
     "iopub.status.busy": "2023-10-30T11:40:24.268350Z",
     "iopub.status.idle": "2023-10-30T11:40:24.306662Z",
     "shell.execute_reply": "2023-10-30T11:40:24.305526Z"
    },
    "papermill": {
     "duration": 0.073111,
     "end_time": "2023-10-30T11:40:24.309136",
     "exception": false,
     "start_time": "2023-10-30T11:40:24.236025",
     "status": "completed"
    },
    "tags": []
   },
   "outputs": [
    {
     "data": {
      "text/html": [
       "<div>\n",
       "<style scoped>\n",
       "    .dataframe tbody tr th:only-of-type {\n",
       "        vertical-align: middle;\n",
       "    }\n",
       "\n",
       "    .dataframe tbody tr th {\n",
       "        vertical-align: top;\n",
       "    }\n",
       "\n",
       "    .dataframe thead th {\n",
       "        text-align: right;\n",
       "    }\n",
       "</style>\n",
       "<table border=\"1\" class=\"dataframe\">\n",
       "  <thead>\n",
       "    <tr style=\"text-align: right;\">\n",
       "      <th></th>\n",
       "      <th>Name</th>\n",
       "      <th>Location</th>\n",
       "      <th>Year</th>\n",
       "      <th>Kilometers_Driven</th>\n",
       "      <th>Fuel_Type</th>\n",
       "      <th>Transmission</th>\n",
       "      <th>Owner_Type</th>\n",
       "      <th>Mileage</th>\n",
       "      <th>Engine</th>\n",
       "      <th>Power</th>\n",
       "      <th>Seats</th>\n",
       "      <th>New_Price</th>\n",
       "      <th>Price</th>\n",
       "      <th>Car Age</th>\n",
       "      <th>Brand</th>\n",
       "      <th>Model</th>\n",
       "    </tr>\n",
       "  </thead>\n",
       "  <tbody>\n",
       "    <tr>\n",
       "      <th>13</th>\n",
       "      <td>Land Rover Range Rover 2.2L Pure</td>\n",
       "      <td>Delhi</td>\n",
       "      <td>2014</td>\n",
       "      <td>72000</td>\n",
       "      <td>Diesel</td>\n",
       "      <td>Automatic</td>\n",
       "      <td>First</td>\n",
       "      <td>12.7 kmpl</td>\n",
       "      <td>2179 CC</td>\n",
       "      <td>187.7 bhp</td>\n",
       "      <td>5.0</td>\n",
       "      <td>NaN</td>\n",
       "      <td>27.00</td>\n",
       "      <td>9</td>\n",
       "      <td>Land</td>\n",
       "      <td>Rover Range</td>\n",
       "    </tr>\n",
       "    <tr>\n",
       "      <th>14</th>\n",
       "      <td>Land Rover Freelander 2 TD4 SE</td>\n",
       "      <td>Pune</td>\n",
       "      <td>2012</td>\n",
       "      <td>85000</td>\n",
       "      <td>Diesel</td>\n",
       "      <td>Automatic</td>\n",
       "      <td>Second</td>\n",
       "      <td>0.0 kmpl</td>\n",
       "      <td>2179 CC</td>\n",
       "      <td>115 bhp</td>\n",
       "      <td>5.0</td>\n",
       "      <td>NaN</td>\n",
       "      <td>17.50</td>\n",
       "      <td>11</td>\n",
       "      <td>Land</td>\n",
       "      <td>Rover Freelander</td>\n",
       "    </tr>\n",
       "    <tr>\n",
       "      <th>176</th>\n",
       "      <td>Mini Countryman Cooper D</td>\n",
       "      <td>Jaipur</td>\n",
       "      <td>2017</td>\n",
       "      <td>8525</td>\n",
       "      <td>Diesel</td>\n",
       "      <td>Automatic</td>\n",
       "      <td>Second</td>\n",
       "      <td>16.6 kmpl</td>\n",
       "      <td>1998 CC</td>\n",
       "      <td>112 bhp</td>\n",
       "      <td>5.0</td>\n",
       "      <td>NaN</td>\n",
       "      <td>23.00</td>\n",
       "      <td>6</td>\n",
       "      <td>Mini</td>\n",
       "      <td>Countryman Cooper</td>\n",
       "    </tr>\n",
       "    <tr>\n",
       "      <th>191</th>\n",
       "      <td>Land Rover Range Rover 2.2L Dynamic</td>\n",
       "      <td>Coimbatore</td>\n",
       "      <td>2018</td>\n",
       "      <td>36091</td>\n",
       "      <td>Diesel</td>\n",
       "      <td>Automatic</td>\n",
       "      <td>First</td>\n",
       "      <td>12.7 kmpl</td>\n",
       "      <td>2179 CC</td>\n",
       "      <td>187.7 bhp</td>\n",
       "      <td>5.0</td>\n",
       "      <td>NaN</td>\n",
       "      <td>55.76</td>\n",
       "      <td>5</td>\n",
       "      <td>Land</td>\n",
       "      <td>Rover Range</td>\n",
       "    </tr>\n",
       "    <tr>\n",
       "      <th>228</th>\n",
       "      <td>Mini Cooper Convertible S</td>\n",
       "      <td>Kochi</td>\n",
       "      <td>2017</td>\n",
       "      <td>26327</td>\n",
       "      <td>Petrol</td>\n",
       "      <td>Automatic</td>\n",
       "      <td>First</td>\n",
       "      <td>16.82 kmpl</td>\n",
       "      <td>1998 CC</td>\n",
       "      <td>189.08 bhp</td>\n",
       "      <td>4.0</td>\n",
       "      <td>44.28 Lakh</td>\n",
       "      <td>35.67</td>\n",
       "      <td>6</td>\n",
       "      <td>Mini</td>\n",
       "      <td>Cooper Convertible</td>\n",
       "    </tr>\n",
       "    <tr>\n",
       "      <th>...</th>\n",
       "      <td>...</td>\n",
       "      <td>...</td>\n",
       "      <td>...</td>\n",
       "      <td>...</td>\n",
       "      <td>...</td>\n",
       "      <td>...</td>\n",
       "      <td>...</td>\n",
       "      <td>...</td>\n",
       "      <td>...</td>\n",
       "      <td>...</td>\n",
       "      <td>...</td>\n",
       "      <td>...</td>\n",
       "      <td>...</td>\n",
       "      <td>...</td>\n",
       "      <td>...</td>\n",
       "      <td>...</td>\n",
       "    </tr>\n",
       "    <tr>\n",
       "      <th>6919</th>\n",
       "      <td>ISUZU D-MAX V-Cross 4X4</td>\n",
       "      <td>Jaipur</td>\n",
       "      <td>2017</td>\n",
       "      <td>290000</td>\n",
       "      <td>Diesel</td>\n",
       "      <td>Manual</td>\n",
       "      <td>First</td>\n",
       "      <td>12.4 kmpl</td>\n",
       "      <td>2499 CC</td>\n",
       "      <td>134 bhp</td>\n",
       "      <td>5.0</td>\n",
       "      <td>NaN</td>\n",
       "      <td>NaN</td>\n",
       "      <td>6</td>\n",
       "      <td>ISUZU</td>\n",
       "      <td>D-MAX V-Cross</td>\n",
       "    </tr>\n",
       "    <tr>\n",
       "      <th>7132</th>\n",
       "      <td>Mini Clubman Cooper S</td>\n",
       "      <td>Pune</td>\n",
       "      <td>2017</td>\n",
       "      <td>2890</td>\n",
       "      <td>Petrol</td>\n",
       "      <td>Manual</td>\n",
       "      <td>First</td>\n",
       "      <td>13.8 kmpl</td>\n",
       "      <td>1998 CC</td>\n",
       "      <td>192 bhp</td>\n",
       "      <td>5.0</td>\n",
       "      <td>44.59 Lakh</td>\n",
       "      <td>NaN</td>\n",
       "      <td>6</td>\n",
       "      <td>Mini</td>\n",
       "      <td>Clubman Cooper</td>\n",
       "    </tr>\n",
       "    <tr>\n",
       "      <th>7157</th>\n",
       "      <td>Land Rover Range Rover 2.2L Pure</td>\n",
       "      <td>Hyderabad</td>\n",
       "      <td>2015</td>\n",
       "      <td>49000</td>\n",
       "      <td>Diesel</td>\n",
       "      <td>Automatic</td>\n",
       "      <td>Second</td>\n",
       "      <td>12.7 kmpl</td>\n",
       "      <td>2179 CC</td>\n",
       "      <td>187.7 bhp</td>\n",
       "      <td>5.0</td>\n",
       "      <td>NaN</td>\n",
       "      <td>NaN</td>\n",
       "      <td>8</td>\n",
       "      <td>Land</td>\n",
       "      <td>Rover Range</td>\n",
       "    </tr>\n",
       "    <tr>\n",
       "      <th>7160</th>\n",
       "      <td>Mini Cooper Countryman D</td>\n",
       "      <td>Hyderabad</td>\n",
       "      <td>2013</td>\n",
       "      <td>50000</td>\n",
       "      <td>Diesel</td>\n",
       "      <td>Automatic</td>\n",
       "      <td>First</td>\n",
       "      <td>23.8 kmpl</td>\n",
       "      <td>1998 CC</td>\n",
       "      <td>112 bhp</td>\n",
       "      <td>5.0</td>\n",
       "      <td>NaN</td>\n",
       "      <td>NaN</td>\n",
       "      <td>10</td>\n",
       "      <td>Mini</td>\n",
       "      <td>Cooper Countryman</td>\n",
       "    </tr>\n",
       "    <tr>\n",
       "      <th>7198</th>\n",
       "      <td>Land Rover Discovery 4 TDV6 Auto Diesel</td>\n",
       "      <td>Hyderabad</td>\n",
       "      <td>2012</td>\n",
       "      <td>147202</td>\n",
       "      <td>Diesel</td>\n",
       "      <td>Automatic</td>\n",
       "      <td>First</td>\n",
       "      <td>11.8 kmpl</td>\n",
       "      <td>2993 CC</td>\n",
       "      <td>241.6 bhp</td>\n",
       "      <td>7.0</td>\n",
       "      <td>NaN</td>\n",
       "      <td>NaN</td>\n",
       "      <td>11</td>\n",
       "      <td>Land</td>\n",
       "      <td>Rover Discovery</td>\n",
       "    </tr>\n",
       "  </tbody>\n",
       "</table>\n",
       "<p>103 rows × 16 columns</p>\n",
       "</div>"
      ],
      "text/plain": [
       "                                         Name    Location  Year  \\\n",
       "13           Land Rover Range Rover 2.2L Pure       Delhi  2014   \n",
       "14             Land Rover Freelander 2 TD4 SE        Pune  2012   \n",
       "176                  Mini Countryman Cooper D      Jaipur  2017   \n",
       "191       Land Rover Range Rover 2.2L Dynamic  Coimbatore  2018   \n",
       "228                 Mini Cooper Convertible S       Kochi  2017   \n",
       "...                                       ...         ...   ...   \n",
       "6919                  ISUZU D-MAX V-Cross 4X4      Jaipur  2017   \n",
       "7132                    Mini Clubman Cooper S        Pune  2017   \n",
       "7157         Land Rover Range Rover 2.2L Pure   Hyderabad  2015   \n",
       "7160                 Mini Cooper Countryman D   Hyderabad  2013   \n",
       "7198  Land Rover Discovery 4 TDV6 Auto Diesel   Hyderabad  2012   \n",
       "\n",
       "      Kilometers_Driven Fuel_Type Transmission Owner_Type     Mileage  \\\n",
       "13                72000    Diesel    Automatic      First   12.7 kmpl   \n",
       "14                85000    Diesel    Automatic     Second    0.0 kmpl   \n",
       "176                8525    Diesel    Automatic     Second   16.6 kmpl   \n",
       "191               36091    Diesel    Automatic      First   12.7 kmpl   \n",
       "228               26327    Petrol    Automatic      First  16.82 kmpl   \n",
       "...                 ...       ...          ...        ...         ...   \n",
       "6919             290000    Diesel       Manual      First   12.4 kmpl   \n",
       "7132               2890    Petrol       Manual      First   13.8 kmpl   \n",
       "7157              49000    Diesel    Automatic     Second   12.7 kmpl   \n",
       "7160              50000    Diesel    Automatic      First   23.8 kmpl   \n",
       "7198             147202    Diesel    Automatic      First   11.8 kmpl   \n",
       "\n",
       "       Engine       Power  Seats   New_Price  Price  Car Age  Brand  \\\n",
       "13    2179 CC   187.7 bhp    5.0         NaN  27.00        9   Land   \n",
       "14    2179 CC     115 bhp    5.0         NaN  17.50       11   Land   \n",
       "176   1998 CC     112 bhp    5.0         NaN  23.00        6   Mini   \n",
       "191   2179 CC   187.7 bhp    5.0         NaN  55.76        5   Land   \n",
       "228   1998 CC  189.08 bhp    4.0  44.28 Lakh  35.67        6   Mini   \n",
       "...       ...         ...    ...         ...    ...      ...    ...   \n",
       "6919  2499 CC     134 bhp    5.0         NaN    NaN        6  ISUZU   \n",
       "7132  1998 CC     192 bhp    5.0  44.59 Lakh    NaN        6   Mini   \n",
       "7157  2179 CC   187.7 bhp    5.0         NaN    NaN        8   Land   \n",
       "7160  1998 CC     112 bhp    5.0         NaN    NaN       10   Mini   \n",
       "7198  2993 CC   241.6 bhp    7.0         NaN    NaN       11   Land   \n",
       "\n",
       "                   Model  \n",
       "13           Rover Range  \n",
       "14      Rover Freelander  \n",
       "176    Countryman Cooper  \n",
       "191          Rover Range  \n",
       "228   Cooper Convertible  \n",
       "...                  ...  \n",
       "6919       D-MAX V-Cross  \n",
       "7132      Clubman Cooper  \n",
       "7157         Rover Range  \n",
       "7160   Cooper Countryman  \n",
       "7198     Rover Discovery  \n",
       "\n",
       "[103 rows x 16 columns]"
      ]
     },
     "execution_count": 54,
     "metadata": {},
     "output_type": "execute_result"
    }
   ],
   "source": [
    "search_for =['Isuzu', 'ISUZU', 'Mini', 'Land']\n",
    "data[data.Brand.str.contains('|'.join(search_for))]"
   ]
  },
  {
   "cell_type": "code",
   "execution_count": 55,
   "id": "04f934ad",
   "metadata": {
    "execution": {
     "iopub.execute_input": "2023-10-30T11:40:24.376357Z",
     "iopub.status.busy": "2023-10-30T11:40:24.375632Z",
     "iopub.status.idle": "2023-10-30T11:40:24.385064Z",
     "shell.execute_reply": "2023-10-30T11:40:24.383756Z"
    },
    "papermill": {
     "duration": 0.046669,
     "end_time": "2023-10-30T11:40:24.387875",
     "exception": false,
     "start_time": "2023-10-30T11:40:24.341206",
     "status": "completed"
    },
    "tags": []
   },
   "outputs": [],
   "source": [
    "data['Brand'].replace({'ISUZU':'Isuzu', 'Mini':'Mini Cooper', 'Land':'Land Rover'}, inplace=True)"
   ]
  },
  {
   "cell_type": "code",
   "execution_count": 56,
   "id": "b8d162ea",
   "metadata": {
    "execution": {
     "iopub.execute_input": "2023-10-30T11:40:24.454533Z",
     "iopub.status.busy": "2023-10-30T11:40:24.454081Z",
     "iopub.status.idle": "2023-10-30T11:40:24.465667Z",
     "shell.execute_reply": "2023-10-30T11:40:24.464004Z"
    },
    "papermill": {
     "duration": 0.049517,
     "end_time": "2023-10-30T11:40:24.468651",
     "exception": false,
     "start_time": "2023-10-30T11:40:24.419134",
     "status": "completed"
    },
    "tags": []
   },
   "outputs": [
    {
     "data": {
      "text/plain": [
       "array(['Maruti', 'Hyundai', 'Honda', 'Audi', 'Nissan', 'Toyota',\n",
       "       'Volkswagen', 'Tata', 'Land Rover', 'Mitsubishi', 'Renault',\n",
       "       'Mercedes-Benz', 'BMW', 'Mahindra', 'Ford', 'Porsche', 'Datsun',\n",
       "       'Jaguar', 'Volvo', 'Chevrolet', 'Skoda', 'Mini Cooper', 'Fiat',\n",
       "       'Jeep', 'Smart', 'Ambassador', 'Isuzu', 'Force', 'Bentley',\n",
       "       'Lamborghini', 'Hindustan', 'OpelCorsa'], dtype=object)"
      ]
     },
     "execution_count": 56,
     "metadata": {},
     "output_type": "execute_result"
    }
   ],
   "source": [
    "data['Brand'].unique()"
   ]
  },
  {
   "cell_type": "code",
   "execution_count": 57,
   "id": "855b99f2",
   "metadata": {
    "execution": {
     "iopub.execute_input": "2023-10-30T11:40:24.542585Z",
     "iopub.status.busy": "2023-10-30T11:40:24.541826Z",
     "iopub.status.idle": "2023-10-30T11:40:24.581706Z",
     "shell.execute_reply": "2023-10-30T11:40:24.580348Z"
    },
    "papermill": {
     "duration": 0.077894,
     "end_time": "2023-10-30T11:40:24.585031",
     "exception": false,
     "start_time": "2023-10-30T11:40:24.507137",
     "status": "completed"
    },
    "tags": []
   },
   "outputs": [
    {
     "data": {
      "text/html": [
       "<div>\n",
       "<style scoped>\n",
       "    .dataframe tbody tr th:only-of-type {\n",
       "        vertical-align: middle;\n",
       "    }\n",
       "\n",
       "    .dataframe tbody tr th {\n",
       "        vertical-align: top;\n",
       "    }\n",
       "\n",
       "    .dataframe thead th {\n",
       "        text-align: right;\n",
       "    }\n",
       "</style>\n",
       "<table border=\"1\" class=\"dataframe\">\n",
       "  <thead>\n",
       "    <tr style=\"text-align: right;\">\n",
       "      <th></th>\n",
       "      <th>count</th>\n",
       "      <th>mean</th>\n",
       "      <th>std</th>\n",
       "      <th>min</th>\n",
       "      <th>25%</th>\n",
       "      <th>50%</th>\n",
       "      <th>75%</th>\n",
       "      <th>max</th>\n",
       "    </tr>\n",
       "  </thead>\n",
       "  <tbody>\n",
       "    <tr>\n",
       "      <th>Year</th>\n",
       "      <td>7253.0</td>\n",
       "      <td>2013.365366</td>\n",
       "      <td>3.254421</td>\n",
       "      <td>1996.00</td>\n",
       "      <td>2011.0</td>\n",
       "      <td>2014.00</td>\n",
       "      <td>2016.00</td>\n",
       "      <td>2019.0</td>\n",
       "    </tr>\n",
       "    <tr>\n",
       "      <th>Kilometers_Driven</th>\n",
       "      <td>7253.0</td>\n",
       "      <td>58699.063146</td>\n",
       "      <td>84427.720583</td>\n",
       "      <td>171.00</td>\n",
       "      <td>34000.0</td>\n",
       "      <td>53416.00</td>\n",
       "      <td>73000.00</td>\n",
       "      <td>6500000.0</td>\n",
       "    </tr>\n",
       "    <tr>\n",
       "      <th>Seats</th>\n",
       "      <td>7200.0</td>\n",
       "      <td>5.279722</td>\n",
       "      <td>0.811660</td>\n",
       "      <td>0.00</td>\n",
       "      <td>5.0</td>\n",
       "      <td>5.00</td>\n",
       "      <td>5.00</td>\n",
       "      <td>10.0</td>\n",
       "    </tr>\n",
       "    <tr>\n",
       "      <th>Price</th>\n",
       "      <td>6019.0</td>\n",
       "      <td>9.479468</td>\n",
       "      <td>11.187917</td>\n",
       "      <td>0.44</td>\n",
       "      <td>3.5</td>\n",
       "      <td>5.64</td>\n",
       "      <td>9.95</td>\n",
       "      <td>160.0</td>\n",
       "    </tr>\n",
       "    <tr>\n",
       "      <th>Car Age</th>\n",
       "      <td>7253.0</td>\n",
       "      <td>9.634634</td>\n",
       "      <td>3.254421</td>\n",
       "      <td>4.00</td>\n",
       "      <td>7.0</td>\n",
       "      <td>9.00</td>\n",
       "      <td>12.00</td>\n",
       "      <td>27.0</td>\n",
       "    </tr>\n",
       "  </tbody>\n",
       "</table>\n",
       "</div>"
      ],
      "text/plain": [
       "                    count          mean           std      min      25%  \\\n",
       "Year               7253.0   2013.365366      3.254421  1996.00   2011.0   \n",
       "Kilometers_Driven  7253.0  58699.063146  84427.720583   171.00  34000.0   \n",
       "Seats              7200.0      5.279722      0.811660     0.00      5.0   \n",
       "Price              6019.0      9.479468     11.187917     0.44      3.5   \n",
       "Car Age            7253.0      9.634634      3.254421     4.00      7.0   \n",
       "\n",
       "                        50%       75%        max  \n",
       "Year                2014.00   2016.00     2019.0  \n",
       "Kilometers_Driven  53416.00  73000.00  6500000.0  \n",
       "Seats                  5.00      5.00       10.0  \n",
       "Price                  5.64      9.95      160.0  \n",
       "Car Age                9.00     12.00       27.0  "
      ]
     },
     "execution_count": 57,
     "metadata": {},
     "output_type": "execute_result"
    }
   ],
   "source": [
    "data.describe().T"
   ]
  },
  {
   "cell_type": "code",
   "execution_count": 58,
   "id": "6fe3726e",
   "metadata": {
    "execution": {
     "iopub.execute_input": "2023-10-30T11:40:24.663458Z",
     "iopub.status.busy": "2023-10-30T11:40:24.662685Z",
     "iopub.status.idle": "2023-10-30T11:40:24.755175Z",
     "shell.execute_reply": "2023-10-30T11:40:24.753981Z"
    },
    "papermill": {
     "duration": 0.129175,
     "end_time": "2023-10-30T11:40:24.758321",
     "exception": false,
     "start_time": "2023-10-30T11:40:24.629146",
     "status": "completed"
    },
    "tags": []
   },
   "outputs": [
    {
     "data": {
      "text/html": [
       "<div>\n",
       "<style scoped>\n",
       "    .dataframe tbody tr th:only-of-type {\n",
       "        vertical-align: middle;\n",
       "    }\n",
       "\n",
       "    .dataframe tbody tr th {\n",
       "        vertical-align: top;\n",
       "    }\n",
       "\n",
       "    .dataframe thead th {\n",
       "        text-align: right;\n",
       "    }\n",
       "</style>\n",
       "<table border=\"1\" class=\"dataframe\">\n",
       "  <thead>\n",
       "    <tr style=\"text-align: right;\">\n",
       "      <th></th>\n",
       "      <th>count</th>\n",
       "      <th>unique</th>\n",
       "      <th>top</th>\n",
       "      <th>freq</th>\n",
       "      <th>mean</th>\n",
       "      <th>std</th>\n",
       "      <th>min</th>\n",
       "      <th>25%</th>\n",
       "      <th>50%</th>\n",
       "      <th>75%</th>\n",
       "      <th>max</th>\n",
       "    </tr>\n",
       "  </thead>\n",
       "  <tbody>\n",
       "    <tr>\n",
       "      <th>Name</th>\n",
       "      <td>7253</td>\n",
       "      <td>2041</td>\n",
       "      <td>Mahindra XUV500 W8 2WD</td>\n",
       "      <td>55</td>\n",
       "      <td>NaN</td>\n",
       "      <td>NaN</td>\n",
       "      <td>NaN</td>\n",
       "      <td>NaN</td>\n",
       "      <td>NaN</td>\n",
       "      <td>NaN</td>\n",
       "      <td>NaN</td>\n",
       "    </tr>\n",
       "    <tr>\n",
       "      <th>Location</th>\n",
       "      <td>7253</td>\n",
       "      <td>11</td>\n",
       "      <td>Mumbai</td>\n",
       "      <td>949</td>\n",
       "      <td>NaN</td>\n",
       "      <td>NaN</td>\n",
       "      <td>NaN</td>\n",
       "      <td>NaN</td>\n",
       "      <td>NaN</td>\n",
       "      <td>NaN</td>\n",
       "      <td>NaN</td>\n",
       "    </tr>\n",
       "    <tr>\n",
       "      <th>Year</th>\n",
       "      <td>7253.0</td>\n",
       "      <td>NaN</td>\n",
       "      <td>NaN</td>\n",
       "      <td>NaN</td>\n",
       "      <td>2013.365366</td>\n",
       "      <td>3.254421</td>\n",
       "      <td>1996.0</td>\n",
       "      <td>2011.0</td>\n",
       "      <td>2014.0</td>\n",
       "      <td>2016.0</td>\n",
       "      <td>2019.0</td>\n",
       "    </tr>\n",
       "    <tr>\n",
       "      <th>Kilometers_Driven</th>\n",
       "      <td>7253.0</td>\n",
       "      <td>NaN</td>\n",
       "      <td>NaN</td>\n",
       "      <td>NaN</td>\n",
       "      <td>58699.063146</td>\n",
       "      <td>84427.720583</td>\n",
       "      <td>171.0</td>\n",
       "      <td>34000.0</td>\n",
       "      <td>53416.0</td>\n",
       "      <td>73000.0</td>\n",
       "      <td>6500000.0</td>\n",
       "    </tr>\n",
       "    <tr>\n",
       "      <th>Fuel_Type</th>\n",
       "      <td>7253</td>\n",
       "      <td>5</td>\n",
       "      <td>Diesel</td>\n",
       "      <td>3852</td>\n",
       "      <td>NaN</td>\n",
       "      <td>NaN</td>\n",
       "      <td>NaN</td>\n",
       "      <td>NaN</td>\n",
       "      <td>NaN</td>\n",
       "      <td>NaN</td>\n",
       "      <td>NaN</td>\n",
       "    </tr>\n",
       "    <tr>\n",
       "      <th>Transmission</th>\n",
       "      <td>7253</td>\n",
       "      <td>2</td>\n",
       "      <td>Manual</td>\n",
       "      <td>5204</td>\n",
       "      <td>NaN</td>\n",
       "      <td>NaN</td>\n",
       "      <td>NaN</td>\n",
       "      <td>NaN</td>\n",
       "      <td>NaN</td>\n",
       "      <td>NaN</td>\n",
       "      <td>NaN</td>\n",
       "    </tr>\n",
       "    <tr>\n",
       "      <th>Owner_Type</th>\n",
       "      <td>7253</td>\n",
       "      <td>4</td>\n",
       "      <td>First</td>\n",
       "      <td>5952</td>\n",
       "      <td>NaN</td>\n",
       "      <td>NaN</td>\n",
       "      <td>NaN</td>\n",
       "      <td>NaN</td>\n",
       "      <td>NaN</td>\n",
       "      <td>NaN</td>\n",
       "      <td>NaN</td>\n",
       "    </tr>\n",
       "    <tr>\n",
       "      <th>Mileage</th>\n",
       "      <td>7251</td>\n",
       "      <td>450</td>\n",
       "      <td>17.0 kmpl</td>\n",
       "      <td>207</td>\n",
       "      <td>NaN</td>\n",
       "      <td>NaN</td>\n",
       "      <td>NaN</td>\n",
       "      <td>NaN</td>\n",
       "      <td>NaN</td>\n",
       "      <td>NaN</td>\n",
       "      <td>NaN</td>\n",
       "    </tr>\n",
       "    <tr>\n",
       "      <th>Engine</th>\n",
       "      <td>7207</td>\n",
       "      <td>150</td>\n",
       "      <td>1197 CC</td>\n",
       "      <td>732</td>\n",
       "      <td>NaN</td>\n",
       "      <td>NaN</td>\n",
       "      <td>NaN</td>\n",
       "      <td>NaN</td>\n",
       "      <td>NaN</td>\n",
       "      <td>NaN</td>\n",
       "      <td>NaN</td>\n",
       "    </tr>\n",
       "    <tr>\n",
       "      <th>Power</th>\n",
       "      <td>7207</td>\n",
       "      <td>386</td>\n",
       "      <td>74 bhp</td>\n",
       "      <td>280</td>\n",
       "      <td>NaN</td>\n",
       "      <td>NaN</td>\n",
       "      <td>NaN</td>\n",
       "      <td>NaN</td>\n",
       "      <td>NaN</td>\n",
       "      <td>NaN</td>\n",
       "      <td>NaN</td>\n",
       "    </tr>\n",
       "    <tr>\n",
       "      <th>Seats</th>\n",
       "      <td>7200.0</td>\n",
       "      <td>NaN</td>\n",
       "      <td>NaN</td>\n",
       "      <td>NaN</td>\n",
       "      <td>5.279722</td>\n",
       "      <td>0.81166</td>\n",
       "      <td>0.0</td>\n",
       "      <td>5.0</td>\n",
       "      <td>5.0</td>\n",
       "      <td>5.0</td>\n",
       "      <td>10.0</td>\n",
       "    </tr>\n",
       "    <tr>\n",
       "      <th>New_Price</th>\n",
       "      <td>1006</td>\n",
       "      <td>625</td>\n",
       "      <td>63.71 Lakh</td>\n",
       "      <td>6</td>\n",
       "      <td>NaN</td>\n",
       "      <td>NaN</td>\n",
       "      <td>NaN</td>\n",
       "      <td>NaN</td>\n",
       "      <td>NaN</td>\n",
       "      <td>NaN</td>\n",
       "      <td>NaN</td>\n",
       "    </tr>\n",
       "    <tr>\n",
       "      <th>Price</th>\n",
       "      <td>6019.0</td>\n",
       "      <td>NaN</td>\n",
       "      <td>NaN</td>\n",
       "      <td>NaN</td>\n",
       "      <td>9.479468</td>\n",
       "      <td>11.187917</td>\n",
       "      <td>0.44</td>\n",
       "      <td>3.5</td>\n",
       "      <td>5.64</td>\n",
       "      <td>9.95</td>\n",
       "      <td>160.0</td>\n",
       "    </tr>\n",
       "    <tr>\n",
       "      <th>Car Age</th>\n",
       "      <td>7253.0</td>\n",
       "      <td>NaN</td>\n",
       "      <td>NaN</td>\n",
       "      <td>NaN</td>\n",
       "      <td>9.634634</td>\n",
       "      <td>3.254421</td>\n",
       "      <td>4.0</td>\n",
       "      <td>7.0</td>\n",
       "      <td>9.0</td>\n",
       "      <td>12.0</td>\n",
       "      <td>27.0</td>\n",
       "    </tr>\n",
       "    <tr>\n",
       "      <th>Brand</th>\n",
       "      <td>7253</td>\n",
       "      <td>32</td>\n",
       "      <td>Maruti</td>\n",
       "      <td>1444</td>\n",
       "      <td>NaN</td>\n",
       "      <td>NaN</td>\n",
       "      <td>NaN</td>\n",
       "      <td>NaN</td>\n",
       "      <td>NaN</td>\n",
       "      <td>NaN</td>\n",
       "      <td>NaN</td>\n",
       "    </tr>\n",
       "    <tr>\n",
       "      <th>Model</th>\n",
       "      <td>7252</td>\n",
       "      <td>726</td>\n",
       "      <td>Swift Dzire</td>\n",
       "      <td>189</td>\n",
       "      <td>NaN</td>\n",
       "      <td>NaN</td>\n",
       "      <td>NaN</td>\n",
       "      <td>NaN</td>\n",
       "      <td>NaN</td>\n",
       "      <td>NaN</td>\n",
       "      <td>NaN</td>\n",
       "    </tr>\n",
       "  </tbody>\n",
       "</table>\n",
       "</div>"
      ],
      "text/plain": [
       "                    count unique                     top  freq          mean  \\\n",
       "Name                 7253   2041  Mahindra XUV500 W8 2WD    55           NaN   \n",
       "Location             7253     11                  Mumbai   949           NaN   \n",
       "Year               7253.0    NaN                     NaN   NaN   2013.365366   \n",
       "Kilometers_Driven  7253.0    NaN                     NaN   NaN  58699.063146   \n",
       "Fuel_Type            7253      5                  Diesel  3852           NaN   \n",
       "Transmission         7253      2                  Manual  5204           NaN   \n",
       "Owner_Type           7253      4                   First  5952           NaN   \n",
       "Mileage              7251    450               17.0 kmpl   207           NaN   \n",
       "Engine               7207    150                 1197 CC   732           NaN   \n",
       "Power                7207    386                  74 bhp   280           NaN   \n",
       "Seats              7200.0    NaN                     NaN   NaN      5.279722   \n",
       "New_Price            1006    625              63.71 Lakh     6           NaN   \n",
       "Price              6019.0    NaN                     NaN   NaN      9.479468   \n",
       "Car Age            7253.0    NaN                     NaN   NaN      9.634634   \n",
       "Brand                7253     32                  Maruti  1444           NaN   \n",
       "Model                7252    726             Swift Dzire   189           NaN   \n",
       "\n",
       "                            std     min      25%      50%      75%        max  \n",
       "Name                        NaN     NaN      NaN      NaN      NaN        NaN  \n",
       "Location                    NaN     NaN      NaN      NaN      NaN        NaN  \n",
       "Year                   3.254421  1996.0   2011.0   2014.0   2016.0     2019.0  \n",
       "Kilometers_Driven  84427.720583   171.0  34000.0  53416.0  73000.0  6500000.0  \n",
       "Fuel_Type                   NaN     NaN      NaN      NaN      NaN        NaN  \n",
       "Transmission                NaN     NaN      NaN      NaN      NaN        NaN  \n",
       "Owner_Type                  NaN     NaN      NaN      NaN      NaN        NaN  \n",
       "Mileage                     NaN     NaN      NaN      NaN      NaN        NaN  \n",
       "Engine                      NaN     NaN      NaN      NaN      NaN        NaN  \n",
       "Power                       NaN     NaN      NaN      NaN      NaN        NaN  \n",
       "Seats                   0.81166     0.0      5.0      5.0      5.0       10.0  \n",
       "New_Price                   NaN     NaN      NaN      NaN      NaN        NaN  \n",
       "Price                 11.187917    0.44      3.5     5.64     9.95      160.0  \n",
       "Car Age                3.254421     4.0      7.0      9.0     12.0       27.0  \n",
       "Brand                       NaN     NaN      NaN      NaN      NaN        NaN  \n",
       "Model                       NaN     NaN      NaN      NaN      NaN        NaN  "
      ]
     },
     "execution_count": 58,
     "metadata": {},
     "output_type": "execute_result"
    }
   ],
   "source": [
    "data.describe(include=\"all\").T"
   ]
  },
  {
   "cell_type": "code",
   "execution_count": 59,
   "id": "74fece33",
   "metadata": {
    "execution": {
     "iopub.execute_input": "2023-10-30T11:40:24.825437Z",
     "iopub.status.busy": "2023-10-30T11:40:24.824644Z",
     "iopub.status.idle": "2023-10-30T11:40:24.833598Z",
     "shell.execute_reply": "2023-10-30T11:40:24.832591Z"
    },
    "papermill": {
     "duration": 0.045192,
     "end_time": "2023-10-30T11:40:24.836300",
     "exception": false,
     "start_time": "2023-10-30T11:40:24.791108",
     "status": "completed"
    },
    "tags": []
   },
   "outputs": [],
   "source": [
    "cat_cols = data.select_dtypes(include = ['object']).columns.tolist()"
   ]
  },
  {
   "cell_type": "code",
   "execution_count": 60,
   "id": "fe941cc0",
   "metadata": {
    "execution": {
     "iopub.execute_input": "2023-10-30T11:40:24.915541Z",
     "iopub.status.busy": "2023-10-30T11:40:24.914613Z",
     "iopub.status.idle": "2023-10-30T11:40:24.922578Z",
     "shell.execute_reply": "2023-10-30T11:40:24.921534Z"
    },
    "papermill": {
     "duration": 0.054473,
     "end_time": "2023-10-30T11:40:24.925055",
     "exception": false,
     "start_time": "2023-10-30T11:40:24.870582",
     "status": "completed"
    },
    "tags": []
   },
   "outputs": [
    {
     "data": {
      "text/plain": [
       "['Name',\n",
       " 'Location',\n",
       " 'Fuel_Type',\n",
       " 'Transmission',\n",
       " 'Owner_Type',\n",
       " 'Mileage',\n",
       " 'Engine',\n",
       " 'Power',\n",
       " 'New_Price',\n",
       " 'Brand',\n",
       " 'Model']"
      ]
     },
     "execution_count": 60,
     "metadata": {},
     "output_type": "execute_result"
    }
   ],
   "source": [
    "cat_cols"
   ]
  },
  {
   "cell_type": "code",
   "execution_count": 61,
   "id": "ed3cf530",
   "metadata": {
    "execution": {
     "iopub.execute_input": "2023-10-30T11:40:24.994513Z",
     "iopub.status.busy": "2023-10-30T11:40:24.993571Z",
     "iopub.status.idle": "2023-10-30T11:40:25.000155Z",
     "shell.execute_reply": "2023-10-30T11:40:24.999101Z"
    },
    "papermill": {
     "duration": 0.046239,
     "end_time": "2023-10-30T11:40:25.004002",
     "exception": false,
     "start_time": "2023-10-30T11:40:24.957763",
     "status": "completed"
    },
    "tags": []
   },
   "outputs": [],
   "source": [
    "num_cols = data.select_dtypes(include = np.number).columns.tolist()"
   ]
  },
  {
   "cell_type": "code",
   "execution_count": 62,
   "id": "f3330830",
   "metadata": {
    "execution": {
     "iopub.execute_input": "2023-10-30T11:40:25.075492Z",
     "iopub.status.busy": "2023-10-30T11:40:25.074532Z",
     "iopub.status.idle": "2023-10-30T11:40:25.081639Z",
     "shell.execute_reply": "2023-10-30T11:40:25.079816Z"
    },
    "papermill": {
     "duration": 0.045126,
     "end_time": "2023-10-30T11:40:25.084654",
     "exception": false,
     "start_time": "2023-10-30T11:40:25.039528",
     "status": "completed"
    },
    "tags": []
   },
   "outputs": [
    {
     "name": "stdout",
     "output_type": "stream",
     "text": [
      "['Year', 'Kilometers_Driven', 'Seats', 'Price', 'Car Age']\n"
     ]
    }
   ],
   "source": [
    "print(num_cols)"
   ]
  },
  {
   "cell_type": "code",
   "execution_count": 63,
   "id": "c9e1a26d",
   "metadata": {
    "execution": {
     "iopub.execute_input": "2023-10-30T11:40:25.155870Z",
     "iopub.status.busy": "2023-10-30T11:40:25.154951Z",
     "iopub.status.idle": "2023-10-30T11:40:27.057442Z",
     "shell.execute_reply": "2023-10-30T11:40:27.056513Z"
    },
    "papermill": {
     "duration": 1.941593,
     "end_time": "2023-10-30T11:40:27.060008",
     "exception": false,
     "start_time": "2023-10-30T11:40:25.118415",
     "status": "completed"
    },
    "tags": []
   },
   "outputs": [
    {
     "name": "stdout",
     "output_type": "stream",
     "text": [
      "Year\n",
      "Skew :  -0.84\n"
     ]
    },
    {
     "data": {
      "image/png": "[encoded data removed]",
      "text/plain": [
       "<Figure size 1500x400 with 2 Axes>"
      ]
     },
     "metadata": {},
     "output_type": "display_data"
    },
    {
     "name": "stdout",
     "output_type": "stream",
     "text": [
      "Kilometers_Driven\n",
      "Skew :  61.58\n"
     ]
    },
    {
     "data": {
      "image/png": "[encoded data removed]",
      "text/plain": [
       "<Figure size 1500x400 with 2 Axes>"
      ]
     },
     "metadata": {},
     "output_type": "display_data"
    },
    {
     "name": "stdout",
     "output_type": "stream",
     "text": [
      "Seats\n",
      "Skew :  1.9\n"
     ]
    },
    {
     "data": {
      "image/png": "[encoded data removed]",
      "text/plain": [
       "<Figure size 1500x400 with 2 Axes>"
      ]
     },
     "metadata": {},
     "output_type": "display_data"
    },
    {
     "name": "stdout",
     "output_type": "stream",
     "text": [
      "Price\n",
      "Skew :  3.34\n"
     ]
    },
    {
     "data": {
      "image/png": "[encoded data removed]",
      "text/plain": [
       "<Figure size 1500x400 with 2 Axes>"
      ]
     },
     "metadata": {},
     "output_type": "display_data"
    },
    {
     "name": "stdout",
     "output_type": "stream",
     "text": [
      "Car Age\n",
      "Skew :  0.84\n"
     ]
    },
    {
     "data": {
      "image/png": "[encoded data removed]",
      "text/plain": [
       "<Figure size 1500x400 with 2 Axes>"
      ]
     },
     "metadata": {},
     "output_type": "display_data"
    }
   ],
   "source": [
    "for cols in num_cols:\n",
    "    print(cols)\n",
    "    print(\"Skew : \", round(data[cols].skew(), 2))\n",
    "    \n",
    "    plt.figure(figsize=(15,4))\n",
    "    plt.subplot(1,2,1)\n",
    "    data[cols].hist(grid = False)\n",
    "    plt.ylabel('count')\n",
    "    \n",
    "    plt.subplot(1,2,2)\n",
    "    sns.boxplot(x=data[cols])\n",
    "    plt.show()\n",
    "    \n",
    "    \n",
    "     "
   ]
  },
  {
   "cell_type": "code",
   "execution_count": 64,
   "id": "a6dfe2e8",
   "metadata": {
    "execution": {
     "iopub.execute_input": "2023-10-30T11:40:27.134750Z",
     "iopub.status.busy": "2023-10-30T11:40:27.134003Z",
     "iopub.status.idle": "2023-10-30T11:40:28.738808Z",
     "shell.execute_reply": "2023-10-30T11:40:28.737789Z"
    },
    "papermill": {
     "duration": 1.646199,
     "end_time": "2023-10-30T11:40:28.742565",
     "exception": false,
     "start_time": "2023-10-30T11:40:27.096366",
     "status": "completed"
    },
    "tags": []
   },
   "outputs": [
    {
     "data": {
      "image/png": "[encoded data removed]",
      "text/plain": [
       "<Figure size 1800x1800 with 6 Axes>"
      ]
     },
     "metadata": {},
     "output_type": "display_data"
    }
   ],
   "source": [
    "fig, axes = plt.subplots(3, 2, figsize = (18, 18))\n",
    "fig.suptitle('Bar plot for all categorical variables in the dataset')\n",
    "sns.countplot(ax = axes[0, 0], x = 'Fuel_Type', data = data, color = 'blue', \n",
    "              order = data['Fuel_Type'].value_counts().index);\n",
    "sns.countplot(ax = axes[0, 1], x = 'Transmission', data = data, color = 'blue', \n",
    "              order = data['Transmission'].value_counts().index);\n",
    "sns.countplot(ax = axes[1, 0], x = 'Owner_Type', data = data, color = 'blue', \n",
    "              order = data['Owner_Type'].value_counts().index);\n",
    "sns.countplot(ax = axes[1, 1], x = 'Location', data = data, color = 'blue', \n",
    "              order = data['Location'].value_counts().index);\n",
    "sns.countplot(ax = axes[2, 0], x = 'Brand', data = data, color = 'blue', \n",
    "              order = data['Brand'].head(20).value_counts().index);\n",
    "sns.countplot(ax = axes[2, 1], x = 'Model', data = data, color = 'blue', \n",
    "              order = data['Model'].head(20).value_counts().index);\n",
    "axes[1][1].tick_params(labelrotation=45);\n",
    "axes[2][0].tick_params(labelrotation=90);\n",
    "axes[2][1].tick_params(labelrotation=90);"
   ]
  },
  {
   "cell_type": "code",
   "execution_count": null,
   "id": "1b5c34f6",
   "metadata": {
    "papermill": {
     "duration": 0.038481,
     "end_time": "2023-10-30T11:40:28.821656",
     "exception": false,
     "start_time": "2023-10-30T11:40:28.783175",
     "status": "completed"
    },
    "tags": []
   },
   "outputs": [],
   "source": []
  },
  {
   "cell_type": "code",
   "execution_count": 65,
   "id": "eb1047dd",
   "metadata": {
    "execution": {
     "iopub.execute_input": "2023-10-30T11:40:28.901667Z",
     "iopub.status.busy": "2023-10-30T11:40:28.901270Z",
     "iopub.status.idle": "2023-10-30T11:40:28.907452Z",
     "shell.execute_reply": "2023-10-30T11:40:28.906326Z"
    },
    "papermill": {
     "duration": 0.048958,
     "end_time": "2023-10-30T11:40:28.910043",
     "exception": false,
     "start_time": "2023-10-30T11:40:28.861085",
     "status": "completed"
    },
    "tags": []
   },
   "outputs": [],
   "source": [
    "dt = {\n",
    "    'A': [1,2,3,4,5],\n",
    "    'B': [2,4,6,8,10],\n",
    "    'C': [3,6,9,12,15],\n",
    "    'D': [20,16,12,8,4]   \n",
    "}"
   ]
  },
  {
   "cell_type": "code",
   "execution_count": 66,
   "id": "6d8db10e",
   "metadata": {
    "execution": {
     "iopub.execute_input": "2023-10-30T11:40:28.992486Z",
     "iopub.status.busy": "2023-10-30T11:40:28.991839Z",
     "iopub.status.idle": "2023-10-30T11:40:29.002913Z",
     "shell.execute_reply": "2023-10-30T11:40:29.001979Z"
    },
    "papermill": {
     "duration": 0.05438,
     "end_time": "2023-10-30T11:40:29.005193",
     "exception": false,
     "start_time": "2023-10-30T11:40:28.950813",
     "status": "completed"
    },
    "tags": []
   },
   "outputs": [
    {
     "data": {
      "text/html": [
       "<div>\n",
       "<style scoped>\n",
       "    .dataframe tbody tr th:only-of-type {\n",
       "        vertical-align: middle;\n",
       "    }\n",
       "\n",
       "    .dataframe tbody tr th {\n",
       "        vertical-align: top;\n",
       "    }\n",
       "\n",
       "    .dataframe thead th {\n",
       "        text-align: right;\n",
       "    }\n",
       "</style>\n",
       "<table border=\"1\" class=\"dataframe\">\n",
       "  <thead>\n",
       "    <tr style=\"text-align: right;\">\n",
       "      <th></th>\n",
       "      <th>A</th>\n",
       "      <th>B</th>\n",
       "      <th>C</th>\n",
       "      <th>D</th>\n",
       "    </tr>\n",
       "  </thead>\n",
       "  <tbody>\n",
       "    <tr>\n",
       "      <th>0</th>\n",
       "      <td>1</td>\n",
       "      <td>2</td>\n",
       "      <td>3</td>\n",
       "      <td>20</td>\n",
       "    </tr>\n",
       "    <tr>\n",
       "      <th>1</th>\n",
       "      <td>2</td>\n",
       "      <td>4</td>\n",
       "      <td>6</td>\n",
       "      <td>16</td>\n",
       "    </tr>\n",
       "    <tr>\n",
       "      <th>2</th>\n",
       "      <td>3</td>\n",
       "      <td>6</td>\n",
       "      <td>9</td>\n",
       "      <td>12</td>\n",
       "    </tr>\n",
       "    <tr>\n",
       "      <th>3</th>\n",
       "      <td>4</td>\n",
       "      <td>8</td>\n",
       "      <td>12</td>\n",
       "      <td>8</td>\n",
       "    </tr>\n",
       "    <tr>\n",
       "      <th>4</th>\n",
       "      <td>5</td>\n",
       "      <td>10</td>\n",
       "      <td>15</td>\n",
       "      <td>4</td>\n",
       "    </tr>\n",
       "  </tbody>\n",
       "</table>\n",
       "</div>"
      ],
      "text/plain": [
       "   A   B   C   D\n",
       "0  1   2   3  20\n",
       "1  2   4   6  16\n",
       "2  3   6   9  12\n",
       "3  4   8  12   8\n",
       "4  5  10  15   4"
      ]
     },
     "execution_count": 66,
     "metadata": {},
     "output_type": "execute_result"
    }
   ],
   "source": [
    "df = pd.DataFrame(dt)\n",
    "df"
   ]
  },
  {
   "cell_type": "code",
   "execution_count": 67,
   "id": "da26c78a",
   "metadata": {
    "execution": {
     "iopub.execute_input": "2023-10-30T11:40:29.086782Z",
     "iopub.status.busy": "2023-10-30T11:40:29.086355Z",
     "iopub.status.idle": "2023-10-30T11:40:34.910846Z",
     "shell.execute_reply": "2023-10-30T11:40:34.909642Z"
    },
    "papermill": {
     "duration": 5.86855,
     "end_time": "2023-10-30T11:40:34.913725",
     "exception": false,
     "start_time": "2023-10-30T11:40:29.045175",
     "status": "completed"
    },
    "tags": []
   },
   "outputs": [
    {
     "name": "stderr",
     "output_type": "stream",
     "text": [
      "/opt/conda/lib/python3.10/site-packages/seaborn/axisgrid.py:118: UserWarning: The figure layout has changed to tight\n",
      "  self._figure.tight_layout(*args, **kwargs)\n"
     ]
    },
    {
     "data": {
      "text/plain": [
       "<seaborn.axisgrid.PairGrid at 0x785e11bdd1b0>"
      ]
     },
     "execution_count": 67,
     "metadata": {},
     "output_type": "execute_result"
    },
    {
     "data": {
      "image/png": "[encoded data removed]",
      "text/plain": [
       "<Figure size 1000x1000 with 20 Axes>"
      ]
     },
     "metadata": {},
     "output_type": "display_data"
    }
   ],
   "source": [
    "sns.pairplot(df, diag_kind='kde')"
   ]
  },
  {
   "cell_type": "code",
   "execution_count": 68,
   "id": "939e8aa4",
   "metadata": {
    "execution": {
     "iopub.execute_input": "2023-10-30T11:40:34.996669Z",
     "iopub.status.busy": "2023-10-30T11:40:34.996297Z",
     "iopub.status.idle": "2023-10-30T11:40:46.701253Z",
     "shell.execute_reply": "2023-10-30T11:40:46.700064Z"
    },
    "papermill": {
     "duration": 11.750011,
     "end_time": "2023-10-30T11:40:46.705186",
     "exception": false,
     "start_time": "2023-10-30T11:40:34.955175",
     "status": "completed"
    },
    "tags": []
   },
   "outputs": [
    {
     "name": "stderr",
     "output_type": "stream",
     "text": [
      "/opt/conda/lib/python3.10/site-packages/seaborn/axisgrid.py:118: UserWarning: The figure layout has changed to tight\n",
      "  self._figure.tight_layout(*args, **kwargs)\n"
     ]
    },
    {
     "data": {
      "text/plain": [
       "<Figure size 1600x1400 with 0 Axes>"
      ]
     },
     "metadata": {},
     "output_type": "display_data"
    },
    {
     "data": {
      "image/png": "[encoded data removed]",
      "text/plain": [
       "<Figure size 1250x1250 with 30 Axes>"
      ]
     },
     "metadata": {},
     "output_type": "display_data"
    }
   ],
   "source": [
    "plt.figure(figsize=(16,14))\n",
    "sns.pairplot(data)\n",
    "plt.show()"
   ]
  }
 ],
 "metadata": {
  "kernelspec": {
   "display_name": "Python 3",
   "language": "python",
   "name": "python3"
  },
  "language_info": {
   "codemirror_mode": {
    "name": "ipython",
    "version": 3
   },
   "file_extension": ".py",
   "mimetype": "text/x-python",
   "name": "python",
   "nbconvert_exporter": "python",
   "pygments_lexer": "ipython3",
   "version": "3.10.12"
  },
  "papermill": {
   "default_parameters": {},
   "duration": 34.37963,
   "end_time": "2023-10-30T11:40:47.970768",
   "environment_variables": {},
   "exception": null,
   "input_path": "__notebook__.ipynb",
   "output_path": "__notebook__.ipynb",
   "parameters": {},
   "start_time": "2023-10-30T11:40:13.591138",
   "version": "2.4.0"
  }
 },
 "nbformat": 4,
 "nbformat_minor": 5
}
