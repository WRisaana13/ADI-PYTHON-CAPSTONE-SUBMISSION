{
 "cells": [
  {
   "cell_type": "code",
   "execution_count": 1,
   "id": "975146f4-b5f0-47b7-a296-0e79ae7ff1cc",
   "metadata": {},
   "outputs": [],
   "source": [
    "import pandas as pd\n",
    "import glob\n",
    "from datetime import datetime\n",
    "import time"
   ]
  },
  {
   "cell_type": "code",
   "execution_count": 2,
   "id": "97dd3dc6-9cd8-4aa6-b758-b649275b2910",
   "metadata": {},
   "outputs": [],
   "source": [
    "def extract_from_json(file_to_process):\n",
    "    dataframe = pd.read_json(file_to_process)\n",
    "    return dataframe"
   ]
  },
  {
   "cell_type": "code",
   "execution_count": 3,
   "id": "8c6523a7-0541-4e45-bb61-acd28269c7ac",
   "metadata": {},
   "outputs": [
    {
     "data": {
      "text/html": [
       "<div>\n",
       "<style scoped>\n",
       "    .dataframe tbody tr th:only-of-type {\n",
       "        vertical-align: middle;\n",
       "    }\n",
       "\n",
       "    .dataframe tbody tr th {\n",
       "        vertical-align: top;\n",
       "    }\n",
       "\n",
       "    .dataframe thead th {\n",
       "        text-align: right;\n",
       "    }\n",
       "</style>\n",
       "<table border=\"1\" class=\"dataframe\">\n",
       "  <thead>\n",
       "    <tr style=\"text-align: right;\">\n",
       "      <th></th>\n",
       "      <th>Name</th>\n",
       "      <th>Market Cap (US$ Billion)</th>\n",
       "    </tr>\n",
       "  </thead>\n",
       "  <tbody>\n",
       "    <tr>\n",
       "      <th>0</th>\n",
       "      <td>JPMorgan Chase</td>\n",
       "      <td>390.934</td>\n",
       "    </tr>\n",
       "    <tr>\n",
       "      <th>1</th>\n",
       "      <td>Industrial and Commercial Bank of China</td>\n",
       "      <td>345.214</td>\n",
       "    </tr>\n",
       "    <tr>\n",
       "      <th>2</th>\n",
       "      <td>Bank of America</td>\n",
       "      <td>325.331</td>\n",
       "    </tr>\n",
       "    <tr>\n",
       "      <th>3</th>\n",
       "      <td>Wells Fargo</td>\n",
       "      <td>308.013</td>\n",
       "    </tr>\n",
       "    <tr>\n",
       "      <th>4</th>\n",
       "      <td>China Construction Bank</td>\n",
       "      <td>257.399</td>\n",
       "    </tr>\n",
       "    <tr>\n",
       "      <th>5</th>\n",
       "      <td>HSBC Holdings PLC</td>\n",
       "      <td>219.270</td>\n",
       "    </tr>\n",
       "    <tr>\n",
       "      <th>6</th>\n",
       "      <td>Agricultural Bank of China</td>\n",
       "      <td>203.244</td>\n",
       "    </tr>\n",
       "    <tr>\n",
       "      <th>7</th>\n",
       "      <td>Citigroup Inc.</td>\n",
       "      <td>203.165</td>\n",
       "    </tr>\n",
       "    <tr>\n",
       "      <th>8</th>\n",
       "      <td>Bank of China</td>\n",
       "      <td>181.469</td>\n",
       "    </tr>\n",
       "    <tr>\n",
       "      <th>9</th>\n",
       "      <td>China Merchants Bank</td>\n",
       "      <td>122.616</td>\n",
       "    </tr>\n",
       "  </tbody>\n",
       "</table>\n",
       "</div>"
      ],
      "text/plain": [
       "                                      Name  Market Cap (US$ Billion)\n",
       "0                           JPMorgan Chase                   390.934\n",
       "1  Industrial and Commercial Bank of China                   345.214\n",
       "2                          Bank of America                   325.331\n",
       "3                              Wells Fargo                   308.013\n",
       "4                  China Construction Bank                   257.399\n",
       "5                        HSBC Holdings PLC                   219.270\n",
       "6               Agricultural Bank of China                   203.244\n",
       "7                           Citigroup Inc.                   203.165\n",
       "8                            Bank of China                   181.469\n",
       "9                     China Merchants Bank                   122.616"
      ]
     },
     "execution_count": 3,
     "metadata": {},
     "output_type": "execute_result"
    }
   ],
   "source": [
    "jsonfile1 = pd.read_json('bank_market_cap_1.json')\n",
    "jsonfile1.head(10)"
   ]
  },
  {
   "cell_type": "code",
   "execution_count": 4,
   "id": "a3e14fe0-79ff-4e76-8820-85f454b4b619",
   "metadata": {},
   "outputs": [
    {
     "data": {
      "text/plain": [
       "(70, 2)"
      ]
     },
     "execution_count": 4,
     "metadata": {},
     "output_type": "execute_result"
    }
   ],
   "source": [
    "jsonfile1.shape"
   ]
  },
  {
   "cell_type": "code",
   "execution_count": 5,
   "id": "ace5ae70-64eb-4d02-ad55-4202d8781837",
   "metadata": {},
   "outputs": [
    {
     "data": {
      "text/html": [
       "<div>\n",
       "<style scoped>\n",
       "    .dataframe tbody tr th:only-of-type {\n",
       "        vertical-align: middle;\n",
       "    }\n",
       "\n",
       "    .dataframe tbody tr th {\n",
       "        vertical-align: top;\n",
       "    }\n",
       "\n",
       "    .dataframe thead th {\n",
       "        text-align: right;\n",
       "    }\n",
       "</style>\n",
       "<table border=\"1\" class=\"dataframe\">\n",
       "  <thead>\n",
       "    <tr style=\"text-align: right;\">\n",
       "      <th></th>\n",
       "      <th>Name</th>\n",
       "      <th>Market Cap (US$ Billion)</th>\n",
       "    </tr>\n",
       "  </thead>\n",
       "  <tbody>\n",
       "    <tr>\n",
       "      <th>35</th>\n",
       "      <td>Banco Bilbao Vizcaya Argentaria</td>\n",
       "      <td>60.678</td>\n",
       "    </tr>\n",
       "    <tr>\n",
       "      <th>36</th>\n",
       "      <td>Japan Post Bank</td>\n",
       "      <td>60.525</td>\n",
       "    </tr>\n",
       "    <tr>\n",
       "      <th>37</th>\n",
       "      <td>The Bank of New York Mellon</td>\n",
       "      <td>59.823</td>\n",
       "    </tr>\n",
       "    <tr>\n",
       "      <th>38</th>\n",
       "      <td>Shanghai Pudong Development Bank</td>\n",
       "      <td>58.796</td>\n",
       "    </tr>\n",
       "    <tr>\n",
       "      <th>39</th>\n",
       "      <td>Industrial Bank (China)</td>\n",
       "      <td>57.388</td>\n",
       "    </tr>\n",
       "    <tr>\n",
       "      <th>40</th>\n",
       "      <td>Bank of China (Hong Kong)</td>\n",
       "      <td>55.449</td>\n",
       "    </tr>\n",
       "    <tr>\n",
       "      <th>41</th>\n",
       "      <td>Bank of Montreal</td>\n",
       "      <td>53.181</td>\n",
       "    </tr>\n",
       "    <tr>\n",
       "      <th>42</th>\n",
       "      <td>Crédit Agricole</td>\n",
       "      <td>52.141</td>\n",
       "    </tr>\n",
       "    <tr>\n",
       "      <th>43</th>\n",
       "      <td>DBS Bank</td>\n",
       "      <td>51.475</td>\n",
       "    </tr>\n",
       "    <tr>\n",
       "      <th>44</th>\n",
       "      <td>Nordea</td>\n",
       "      <td>51.185</td>\n",
       "    </tr>\n",
       "  </tbody>\n",
       "</table>\n",
       "</div>"
      ],
      "text/plain": [
       "                                Name  Market Cap (US$ Billion)\n",
       "35   Banco Bilbao Vizcaya Argentaria                    60.678\n",
       "36                   Japan Post Bank                    60.525\n",
       "37       The Bank of New York Mellon                    59.823\n",
       "38  Shanghai Pudong Development Bank                    58.796\n",
       "39           Industrial Bank (China)                    57.388\n",
       "40         Bank of China (Hong Kong)                    55.449\n",
       "41                  Bank of Montreal                    53.181\n",
       "42                   Crédit Agricole                    52.141\n",
       "43                          DBS Bank                    51.475\n",
       "44                            Nordea                    51.185"
      ]
     },
     "execution_count": 5,
     "metadata": {},
     "output_type": "execute_result"
    }
   ],
   "source": [
    "jsonfile2 = pd.read_json('bank_market_cap_2.json')\n",
    "jsonfile2.head(10)"
   ]
  },
  {
   "cell_type": "code",
   "execution_count": 6,
   "id": "fbdae3d0-314a-4aeb-8dc4-2cb8ae6cc5c9",
   "metadata": {},
   "outputs": [
    {
     "data": {
      "text/plain": [
       "(35, 2)"
      ]
     },
     "execution_count": 6,
     "metadata": {},
     "output_type": "execute_result"
    }
   ],
   "source": [
    "jsonfile2.shape"
   ]
  },
  {
   "cell_type": "code",
   "execution_count": 7,
   "id": "9eafbc3f-6ae9-4649-853e-2f362efd1990",
   "metadata": {},
   "outputs": [],
   "source": [
    "columns = [\"Name\", \"Market Cap (US$ Billion)\"]\n",
    "\n",
    "def extract():\n",
    "    extracted_data = pd.DataFrame(columns = columns)\n",
    "    for jsonfile in glob.glob(\"*.json\"):\n",
    "        extracted_data = extracted_data._append(extract_from_json(jsonfile), ignore_index = True)\n",
    "\n",
    "    return extracted_data\n",
    "                              "
   ]
  },
  {
   "cell_type": "code",
   "execution_count": 8,
   "id": "8dc8c6f7-01e6-427d-a7d2-96ca0b8d89d2",
   "metadata": {},
   "outputs": [
    {
     "name": "stderr",
     "output_type": "stream",
     "text": [
      "C:\\Users\\Administrator\\AppData\\Local\\Temp\\ipykernel_20888\\2316686742.py:6: FutureWarning: The behavior of DataFrame concatenation with empty or all-NA entries is deprecated. In a future version, this will no longer exclude empty or all-NA columns when determining the result dtypes. To retain the old behavior, exclude the relevant entries before the concat operation.\n",
      "  extracted_data = extracted_data._append(extract_from_json(jsonfile), ignore_index = True)\n"
     ]
    },
    {
     "data": {
      "text/html": [
       "<div>\n",
       "<style scoped>\n",
       "    .dataframe tbody tr th:only-of-type {\n",
       "        vertical-align: middle;\n",
       "    }\n",
       "\n",
       "    .dataframe tbody tr th {\n",
       "        vertical-align: top;\n",
       "    }\n",
       "\n",
       "    .dataframe thead th {\n",
       "        text-align: right;\n",
       "    }\n",
       "</style>\n",
       "<table border=\"1\" class=\"dataframe\">\n",
       "  <thead>\n",
       "    <tr style=\"text-align: right;\">\n",
       "      <th></th>\n",
       "      <th>Name</th>\n",
       "      <th>Market Cap (US$ Billion)</th>\n",
       "    </tr>\n",
       "  </thead>\n",
       "  <tbody>\n",
       "    <tr>\n",
       "      <th>0</th>\n",
       "      <td>JPMorgan Chase</td>\n",
       "      <td>390.934</td>\n",
       "    </tr>\n",
       "    <tr>\n",
       "      <th>1</th>\n",
       "      <td>Industrial and Commercial Bank of China</td>\n",
       "      <td>345.214</td>\n",
       "    </tr>\n",
       "    <tr>\n",
       "      <th>2</th>\n",
       "      <td>Bank of America</td>\n",
       "      <td>325.331</td>\n",
       "    </tr>\n",
       "    <tr>\n",
       "      <th>3</th>\n",
       "      <td>Wells Fargo</td>\n",
       "      <td>308.013</td>\n",
       "    </tr>\n",
       "    <tr>\n",
       "      <th>4</th>\n",
       "      <td>China Construction Bank</td>\n",
       "      <td>257.399</td>\n",
       "    </tr>\n",
       "    <tr>\n",
       "      <th>...</th>\n",
       "      <td>...</td>\n",
       "      <td>...</td>\n",
       "    </tr>\n",
       "    <tr>\n",
       "      <th>100</th>\n",
       "      <td>Ping An Bank</td>\n",
       "      <td>37.993</td>\n",
       "    </tr>\n",
       "    <tr>\n",
       "      <th>101</th>\n",
       "      <td>Standard Chartered</td>\n",
       "      <td>37.319</td>\n",
       "    </tr>\n",
       "    <tr>\n",
       "      <th>102</th>\n",
       "      <td>United Overseas Bank</td>\n",
       "      <td>35.128</td>\n",
       "    </tr>\n",
       "    <tr>\n",
       "      <th>103</th>\n",
       "      <td>QNB Group</td>\n",
       "      <td>33.560</td>\n",
       "    </tr>\n",
       "    <tr>\n",
       "      <th>104</th>\n",
       "      <td>Bank Rakyat</td>\n",
       "      <td>33.081</td>\n",
       "    </tr>\n",
       "  </tbody>\n",
       "</table>\n",
       "<p>105 rows × 2 columns</p>\n",
       "</div>"
      ],
      "text/plain": [
       "                                        Name  Market Cap (US$ Billion)\n",
       "0                             JPMorgan Chase                   390.934\n",
       "1    Industrial and Commercial Bank of China                   345.214\n",
       "2                            Bank of America                   325.331\n",
       "3                                Wells Fargo                   308.013\n",
       "4                    China Construction Bank                   257.399\n",
       "..                                       ...                       ...\n",
       "100                             Ping An Bank                    37.993\n",
       "101                       Standard Chartered                    37.319\n",
       "102                     United Overseas Bank                    35.128\n",
       "103                                QNB Group                    33.560\n",
       "104                              Bank Rakyat                    33.081\n",
       "\n",
       "[105 rows x 2 columns]"
      ]
     },
     "execution_count": 8,
     "metadata": {},
     "output_type": "execute_result"
    }
   ],
   "source": [
    "my_extracted_df = extract()\n",
    "my_extracted_df"
   ]
  },
  {
   "cell_type": "code",
   "execution_count": 9,
   "id": "8daacf9f-f960-4bbf-8b85-efe87661f94e",
   "metadata": {},
   "outputs": [
    {
     "data": {
      "text/html": [
       "<div>\n",
       "<style scoped>\n",
       "    .dataframe tbody tr th:only-of-type {\n",
       "        vertical-align: middle;\n",
       "    }\n",
       "\n",
       "    .dataframe tbody tr th {\n",
       "        vertical-align: top;\n",
       "    }\n",
       "\n",
       "    .dataframe thead th {\n",
       "        text-align: right;\n",
       "    }\n",
       "</style>\n",
       "<table border=\"1\" class=\"dataframe\">\n",
       "  <thead>\n",
       "    <tr style=\"text-align: right;\">\n",
       "      <th></th>\n",
       "      <th>Rates</th>\n",
       "    </tr>\n",
       "  </thead>\n",
       "  <tbody>\n",
       "    <tr>\n",
       "      <th>AUD</th>\n",
       "      <td>1.297088</td>\n",
       "    </tr>\n",
       "    <tr>\n",
       "      <th>BGN</th>\n",
       "      <td>1.608653</td>\n",
       "    </tr>\n",
       "    <tr>\n",
       "      <th>BRL</th>\n",
       "      <td>5.409196</td>\n",
       "    </tr>\n",
       "    <tr>\n",
       "      <th>CAD</th>\n",
       "      <td>1.271426</td>\n",
       "    </tr>\n",
       "    <tr>\n",
       "      <th>CHF</th>\n",
       "      <td>0.886083</td>\n",
       "    </tr>\n",
       "    <tr>\n",
       "      <th>CNY</th>\n",
       "      <td>6.483139</td>\n",
       "    </tr>\n",
       "    <tr>\n",
       "      <th>CZK</th>\n",
       "      <td>21.510117</td>\n",
       "    </tr>\n",
       "    <tr>\n",
       "      <th>DKK</th>\n",
       "      <td>6.119757</td>\n",
       "    </tr>\n",
       "    <tr>\n",
       "      <th>EUR</th>\n",
       "      <td>0.822504</td>\n",
       "    </tr>\n",
       "    <tr>\n",
       "      <th>GBP</th>\n",
       "      <td>0.732398</td>\n",
       "    </tr>\n",
       "  </tbody>\n",
       "</table>\n",
       "</div>"
      ],
      "text/plain": [
       "         Rates\n",
       "AUD   1.297088\n",
       "BGN   1.608653\n",
       "BRL   5.409196\n",
       "CAD   1.271426\n",
       "CHF   0.886083\n",
       "CNY   6.483139\n",
       "CZK  21.510117\n",
       "DKK   6.119757\n",
       "EUR   0.822504\n",
       "GBP   0.732398"
      ]
     },
     "execution_count": 9,
     "metadata": {},
     "output_type": "execute_result"
    }
   ],
   "source": [
    "dataframe = pd.read_csv('exchange_rates.csv', index_col = 0)\n",
    "dataframe.head(10)"
   ]
  },
  {
   "cell_type": "code",
   "execution_count": 10,
   "id": "57795a1b-e4f1-4154-9b4e-babd17fd6471",
   "metadata": {},
   "outputs": [],
   "source": [
    "def read_csv(file_to_process):\n",
    "    dataframe = pd.read_csv(file_to_process, index_col = 0)\n",
    "    return dataframe\n",
    "\n",
    "def extract_csv():\n",
    "    for csvfile in glob.glob(\"*.csv\"):\n",
    "        extracted_csv_data = pd.DataFrame(read_csv(csvfile))\n",
    "    return extracted_csv_data"
   ]
  },
  {
   "cell_type": "code",
   "execution_count": 11,
   "id": "d54205be-062e-4ccb-87ac-d868b79c58df",
   "metadata": {},
   "outputs": [
    {
     "data": {
      "text/html": [
       "<div>\n",
       "<style scoped>\n",
       "    .dataframe tbody tr th:only-of-type {\n",
       "        vertical-align: middle;\n",
       "    }\n",
       "\n",
       "    .dataframe tbody tr th {\n",
       "        vertical-align: top;\n",
       "    }\n",
       "\n",
       "    .dataframe thead th {\n",
       "        text-align: right;\n",
       "    }\n",
       "</style>\n",
       "<table border=\"1\" class=\"dataframe\">\n",
       "  <thead>\n",
       "    <tr style=\"text-align: right;\">\n",
       "      <th></th>\n",
       "      <th>Rates</th>\n",
       "    </tr>\n",
       "  </thead>\n",
       "  <tbody>\n",
       "    <tr>\n",
       "      <th>AUD</th>\n",
       "      <td>1.297088</td>\n",
       "    </tr>\n",
       "    <tr>\n",
       "      <th>BGN</th>\n",
       "      <td>1.608653</td>\n",
       "    </tr>\n",
       "    <tr>\n",
       "      <th>BRL</th>\n",
       "      <td>5.409196</td>\n",
       "    </tr>\n",
       "    <tr>\n",
       "      <th>CAD</th>\n",
       "      <td>1.271426</td>\n",
       "    </tr>\n",
       "    <tr>\n",
       "      <th>CHF</th>\n",
       "      <td>0.886083</td>\n",
       "    </tr>\n",
       "    <tr>\n",
       "      <th>CNY</th>\n",
       "      <td>6.483139</td>\n",
       "    </tr>\n",
       "    <tr>\n",
       "      <th>CZK</th>\n",
       "      <td>21.510117</td>\n",
       "    </tr>\n",
       "    <tr>\n",
       "      <th>DKK</th>\n",
       "      <td>6.119757</td>\n",
       "    </tr>\n",
       "    <tr>\n",
       "      <th>EUR</th>\n",
       "      <td>0.822504</td>\n",
       "    </tr>\n",
       "    <tr>\n",
       "      <th>GBP</th>\n",
       "      <td>0.732398</td>\n",
       "    </tr>\n",
       "  </tbody>\n",
       "</table>\n",
       "</div>"
      ],
      "text/plain": [
       "         Rates\n",
       "AUD   1.297088\n",
       "BGN   1.608653\n",
       "BRL   5.409196\n",
       "CAD   1.271426\n",
       "CHF   0.886083\n",
       "CNY   6.483139\n",
       "CZK  21.510117\n",
       "DKK   6.119757\n",
       "EUR   0.822504\n",
       "GBP   0.732398"
      ]
     },
     "execution_count": 11,
     "metadata": {},
     "output_type": "execute_result"
    }
   ],
   "source": [
    "my_csv_extracted = extract_csv()\n",
    "my_csv_extracted.head(10)"
   ]
  },
  {
   "cell_type": "code",
   "execution_count": 12,
   "id": "6ce77bf0-b057-411d-8555-b688e6673c99",
   "metadata": {},
   "outputs": [
    {
     "name": "stderr",
     "output_type": "stream",
     "text": [
      "C:\\Users\\Administrator\\AppData\\Local\\Temp\\ipykernel_20888\\1698696865.py:1: FutureWarning: Calling float on a single element Series is deprecated and will raise a TypeError in the future. Use float(ser.iloc[0]) instead\n",
      "  exchange_rate = float(my_csv_extracted.loc[\"GBP\"])\n"
     ]
    },
    {
     "data": {
      "text/plain": [
       "0.7323984208000001"
      ]
     },
     "execution_count": 12,
     "metadata": {},
     "output_type": "execute_result"
    }
   ],
   "source": [
    "exchange_rate = float(my_csv_extracted.loc[\"GBP\"])\n",
    "exchange_rate"
   ]
  },
  {
   "cell_type": "code",
   "execution_count": 13,
   "id": "144476e5-a08d-4f89-acc1-806eccde9d01",
   "metadata": {},
   "outputs": [],
   "source": [
    "def transform(data):\n",
    "    data[\"Market Cap (US$ Billion)\"] = round(data[\"Market Cap (US$ Billion)\"] * exchange_rate, 3)\n",
    "    data.rename(columns = {\"Name\": \"Name\", \"Market Cap (US$ Billion)\" : \"Market Cap (GBP Billion)\"}, inplace =True, errors = \"raised\")\n",
    "    return data"
   ]
  },
  {
   "cell_type": "code",
   "execution_count": 14,
   "id": "59580abe-5271-4675-9e38-2f4fbeaec1f1",
   "metadata": {},
   "outputs": [
    {
     "data": {
      "text/html": [
       "<div>\n",
       "<style scoped>\n",
       "    .dataframe tbody tr th:only-of-type {\n",
       "        vertical-align: middle;\n",
       "    }\n",
       "\n",
       "    .dataframe tbody tr th {\n",
       "        vertical-align: top;\n",
       "    }\n",
       "\n",
       "    .dataframe thead th {\n",
       "        text-align: right;\n",
       "    }\n",
       "</style>\n",
       "<table border=\"1\" class=\"dataframe\">\n",
       "  <thead>\n",
       "    <tr style=\"text-align: right;\">\n",
       "      <th></th>\n",
       "      <th>Name</th>\n",
       "      <th>Market Cap (GBP Billion)</th>\n",
       "    </tr>\n",
       "  </thead>\n",
       "  <tbody>\n",
       "    <tr>\n",
       "      <th>0</th>\n",
       "      <td>JPMorgan Chase</td>\n",
       "      <td>286.319</td>\n",
       "    </tr>\n",
       "    <tr>\n",
       "      <th>1</th>\n",
       "      <td>Industrial and Commercial Bank of China</td>\n",
       "      <td>252.834</td>\n",
       "    </tr>\n",
       "    <tr>\n",
       "      <th>2</th>\n",
       "      <td>Bank of America</td>\n",
       "      <td>238.272</td>\n",
       "    </tr>\n",
       "    <tr>\n",
       "      <th>3</th>\n",
       "      <td>Wells Fargo</td>\n",
       "      <td>225.588</td>\n",
       "    </tr>\n",
       "    <tr>\n",
       "      <th>4</th>\n",
       "      <td>China Construction Bank</td>\n",
       "      <td>188.519</td>\n",
       "    </tr>\n",
       "  </tbody>\n",
       "</table>\n",
       "</div>"
      ],
      "text/plain": [
       "                                      Name  Market Cap (GBP Billion)\n",
       "0                           JPMorgan Chase                   286.319\n",
       "1  Industrial and Commercial Bank of China                   252.834\n",
       "2                          Bank of America                   238.272\n",
       "3                              Wells Fargo                   225.588\n",
       "4                  China Construction Bank                   188.519"
      ]
     },
     "execution_count": 14,
     "metadata": {},
     "output_type": "execute_result"
    }
   ],
   "source": [
    "my_tranfor_df = transform(my_extracted_df)\n",
    "my_tranfor_df.head(5)"
   ]
  },
  {
   "cell_type": "code",
   "execution_count": 15,
   "id": "5d1ddf8e-6b13-4990-b005-d79110ff1e01",
   "metadata": {},
   "outputs": [],
   "source": [
    "filename = \"bank_market_cap_gbp.csv\"\n",
    "\n",
    "def load(filename, data):\n",
    "    data.to_csv(filename, index = False)"
   ]
  },
  {
   "cell_type": "code",
   "execution_count": 16,
   "id": "68b8a0c5-d6d6-4703-925c-d95303da6be3",
   "metadata": {},
   "outputs": [],
   "source": [
    "logfilename = \"bmc_log.txt\"\n",
    "\n",
    "def log(message):\n",
    "    timestamp = datetime.now().strftime(\"Date: %h %d, %Y - Time: %H:%M:%S\")\n",
    "    with open(logfilename, \"a\") as txtfile:\n",
    "        txtfile.write(f\"{timestamp} : {message}. \\n\")"
   ]
  },
  {
   "cell_type": "code",
   "execution_count": 17,
   "id": "b230ab53-a70f-4eb9-8867-18d83622124b",
   "metadata": {},
   "outputs": [
    {
     "ename": "NameError",
     "evalue": "name 'time' is not defined",
     "output_type": "error",
     "traceback": [
      "\u001b[1;31m---------------------------------------------------------------------------\u001b[0m",
      "\u001b[1;31mNameError\u001b[0m                                 Traceback (most recent call last)",
      "Cell \u001b[1;32mIn[17], line 2\u001b[0m\n\u001b[0;32m      1\u001b[0m log(\u001b[38;5;124m\"\u001b[39m\u001b[38;5;124mETL Job Started\u001b[39m\u001b[38;5;124m\"\u001b[39m)\n\u001b[1;32m----> 2\u001b[0m \u001b[43mtime\u001b[49m\u001b[38;5;241m.\u001b[39msleep(\u001b[38;5;241m1\u001b[39m)\n\u001b[0;32m      3\u001b[0m log(\u001b[38;5;124m\"\u001b[39m\u001b[38;5;124mExtract Phase started\u001b[39m\u001b[38;5;124m\"\u001b[39m)\n",
      "\u001b[1;31mNameError\u001b[0m: name 'time' is not defined"
     ]
    }
   ],
   "source": [
    "log(\"ETL Job Started\")\n",
    "time.sleep(1)\n",
    "log(\"Extract Phase started\")"
   ]
  },
  {
   "cell_type": "code",
   "execution_count": null,
   "id": "edb776c7-443d-4ad7-a6bc-609d231ae2db",
   "metadata": {},
   "outputs": [],
   "source": [
    "extractedData = extract()\n",
    "extractedData.head(5)"
   ]
  },
  {
   "cell_type": "code",
   "execution_count": null,
   "id": "213aa904-1f4c-4f5a-95b4-1cca00b2bd46",
   "metadata": {},
   "outputs": [],
   "source": [
    "log(\"Extract Phase Ended\")\n",
    "time.sleep(1)\n",
    "log(\"Transform Phase Started\")"
   ]
  },
  {
   "cell_type": "code",
   "execution_count": null,
   "id": "3122ae96-08da-4db8-8f0e-ffef60380b59",
   "metadata": {},
   "outputs": [],
   "source": [
    "transformedData = transform(extractedData)\n",
    "transformedData.head(5)"
   ]
  },
  {
   "cell_type": "code",
   "execution_count": null,
   "id": "86d6456d-71df-4c0f-bc9e-a009cbb45470",
   "metadata": {},
   "outputs": [],
   "source": [
    "log(\"Transform Phase Ended\")\n",
    "time.sleep(1)\n",
    "log(\"Load Phase Started\")"
   ]
  },
  {
   "cell_type": "code",
   "execution_count": null,
   "id": "c63fad3c-61ed-49e6-a5ef-ec3a44809ed8",
   "metadata": {},
   "outputs": [],
   "source": [
    "load(filename, transformedData)"
   ]
  },
  {
   "cell_type": "code",
   "execution_count": null,
   "id": "3ce941ce-ceda-4020-8b37-9331b4010000",
   "metadata": {},
   "outputs": [],
   "source": [
    "log(\"Load Phase Ended\")\n",
    "time.sleep(1)"
   ]
  },
  {
   "cell_type": "code",
   "execution_count": null,
   "id": "214096da-7487-49f0-be51-922a9cb87bd2",
   "metadata": {},
   "outputs": [],
   "source": []
  }
 ],
 "metadata": {
  "kernelspec": {
   "display_name": "Python 3 (ipykernel)",
   "language": "python",
   "name": "python3"
  },
  "language_info": {
   "codemirror_mode": {
    "name": "ipython",
    "version": 3
   },
   "file_extension": ".py",
   "mimetype": "text/x-python",
   "name": "python",
   "nbconvert_exporter": "python",
   "pygments_lexer": "ipython3",
   "version": "3.11.3"
  }
 },
 "nbformat": 4,
 "nbformat_minor": 5
}
